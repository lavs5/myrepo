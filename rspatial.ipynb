{
 "cells": [
  {
   "cell_type": "markdown",
   "id": "c8f5b5c4-c87a-44aa-8618-21ef0f9badbb",
   "metadata": {},
   "source": [
    "R for maps"
   ]
  },
  {
   "cell_type": "markdown",
   "id": "c8db7991-7695-4e7c-b845-577884d1c0fa",
   "metadata": {
    "tags": []
   },
   "source": [
    "Libraries"
   ]
  },
  {
   "cell_type": "code",
   "execution_count": null,
   "id": "16e27c42-5567-4e39-aecd-248d957cfca0",
   "metadata": {},
   "outputs": [],
   "source": [
    "library(tidyverse)\n",
    "library(sf)\n",
    "library(tmap)\n",
    "library(spData)"
   ]
  },
  {
   "cell_type": "markdown",
   "id": "9d0e7dd3-4b3c-48a4-b4b0-5e568d2b015e",
   "metadata": {},
   "source": [
    "Example: US Counties, Georgia\n",
    "\n",
    "Major US Roads: \n",
    "https://catalog.data.gov/dataset/tiger-line-shapefile-2016-nation-u-s-primary-roads-national-shapefile\n",
    "GA counties: \n",
    "https://arc-garc.opendata.arcgis.com/datasets/dc20713282734a73abe990995de40497_68\n"
   ]
  },
  {
   "cell_type": "markdown",
   "id": "690871b9-fa46-474a-ad0c-3b1e9552c61c",
   "metadata": {},
   "source": [
    "Read data, filter by name"
   ]
  },
  {
   "cell_type": "code",
   "execution_count": null,
   "id": "ab08e5c0-ea4b-4209-a5d8-d386bba5e4e3",
   "metadata": {},
   "outputs": [],
   "source": [
    "data(\"us_states\") # from spData package\n",
    "ga <- us_states %% filter(NAME == \"Georgia\")\n",
    "counties <- st_read(\"myfolder/counties.shp\", quiet=T)\n",
    "roads <- st_read(\"myfolder/roads.shp\")"
   ]
  },
  {
   "cell_type": "markdown",
   "id": "64b6a7eb-5acb-4a6b-9b0a-58a5704f2a50",
   "metadata": {},
   "source": [
    "Create projection variable"
   ]
  },
  {
   "cell_type": "code",
   "execution_count": null,
   "id": "77e7d67e-42fb-4381-b6fb-9f5a6b227815",
   "metadata": {},
   "outputs": [],
   "source": [
    "proj <- \"+proj=lcc +lat_1=31.41666666666667 +lat_2=34.28333333333333 +lat_0=0 +lon_0=-83.5 +x_0=0 +y_0=0 +ellps=GRS80 +datum=NAD83 +to_meter=0.3048006096012192 +no_defs\""
   ]
  },
  {
   "cell_type": "markdown",
   "id": "3b843281-a1aa-4591-9c69-c1e4b4b63989",
   "metadata": {},
   "source": [
    "Reproject inputs"
   ]
  },
  {
   "cell_type": "code",
   "execution_count": null,
   "id": "08929aff-3cc9-4fa1-a8fe-6852d374f7b5",
   "metadata": {},
   "outputs": [],
   "source": [
    "roads <- st_transform(roads, proj)\n",
    "ga <- st_transform(ga, proj)\n",
    "counties <- st_transform(counties, proj)"
   ]
  },
  {
   "cell_type": "markdown",
   "id": "cdd0487f-8c01-4f60-9d9e-fe096dc339b2",
   "metadata": {},
   "source": [
    "Clip road by selected state input"
   ]
  },
  {
   "cell_type": "code",
   "execution_count": null,
   "id": "ad6dbd32-2174-480b-bf3c-48d0db35d30b",
   "metadata": {},
   "outputs": [],
   "source": [
    "roads <- st_crop(roads, ga)"
   ]
  },
  {
   "cell_type": "markdown",
   "id": "aab87c3d-5795-40b4-a0e5-d9c11a1fcde4",
   "metadata": {},
   "source": [
    "Plot state, counties, and roads"
   ]
  },
  {
   "cell_type": "code",
   "execution_count": null,
   "id": "b71c228b-394a-427f-a81e-82d71a485435",
   "metadata": {},
   "outputs": [],
   "source": [
    "plot(st_geometry(ga))\n",
    "plot(st_geometry(counties), add = T, col = \"red\")\n",
    "plot(st_geometry(roads), add = T, col = \"blue\")"
   ]
  },
  {
   "cell_type": "markdown",
   "id": "d002ab39-449c-4ccc-9639-a05bdcdac9fb",
   "metadata": {},
   "source": [
    "------------"
   ]
  },
  {
   "cell_type": "markdown",
   "id": "225e58e6-1ac1-47bf-9650-e75dc8d2ceda",
   "metadata": {},
   "source": [
    "Using ggplot"
   ]
  },
  {
   "cell_type": "code",
   "execution_count": null,
   "id": "f9b20830-b565-4dd7-bcc6-cf7b03a41a7f",
   "metadata": {},
   "outputs": [],
   "source": [
    "ggplot(ga) +  geom_sf()"
   ]
  },
  {
   "cell_type": "markdown",
   "id": "5462a895-1047-4b0f-86f0-0e82c52f00a0",
   "metadata": {},
   "source": [
    "with title"
   ]
  },
  {
   "cell_type": "code",
   "execution_count": null,
   "id": "3fad3d5e-26d9-441c-ba1b-c292f7e1069a",
   "metadata": {},
   "outputs": [],
   "source": [
    "ggplot(ga) + \n",
    "  geom_sf(fill = \"beige\") +  \n",
    "  labs(title = \"The fine state of Georgia\") +  \n",
    "  theme_minimal()"
   ]
  },
  {
   "cell_type": "markdown",
   "id": "0b21f0c3-5dc3-46dd-bcf7-ae51a71fe4b5",
   "metadata": {},
   "source": [
    "with more info"
   ]
  },
  {
   "cell_type": "code",
   "execution_count": null,
   "id": "b5bc9e32-9d97-44a8-b88b-e74eddf6dfce",
   "metadata": {},
   "outputs": [],
   "source": [
    "ggplot() +\n",
    "  geom_sf(data = counties, aes(fill = totpop10)) +\n",
    "  geom_sf(data = roads, color = \"orange\") +\n",
    "  labs(title = \"All roads lead to the ATL\", fill = \"Population\") +\n",
    "  theme_minimal()"
   ]
  },
  {
   "cell_type": "markdown",
   "id": "71619c84-8f5f-4406-ac36-5fd334690992",
   "metadata": {},
   "source": [
    "Using ggspatial, north arrow, scalebar"
   ]
  },
  {
   "cell_type": "code",
   "execution_count": null,
   "id": "c880ca57-d03e-40ef-93e0-9c23ec9cf025",
   "metadata": {},
   "outputs": [],
   "source": [
    "library(ggspatial)\n",
    "ggplot() +\n",
    "  geom_sf(data = counties, aes(fill = totpop10)) +\n",
    "  geom_sf(data = roads, color = \"orange\") +\n",
    "  labs(title = \"All roads lead to the ATL\", fill = \"Population\") +\n",
    "  theme_minimal() +\n",
    "  annotation_scale(location = \"bl\", width_hint = 0.5) +\n",
    "  annotation_north_arrow(location = \"tr\", which_north = \"true\", style = north_arrow_fancy_orienteering())"
   ]
  },
  {
   "cell_type": "markdown",
   "id": "c45c9ff6-5de5-454c-842d-150f0946c20b",
   "metadata": {},
   "source": [
    "Using tmap"
   ]
  },
  {
   "cell_type": "code",
   "execution_count": null,
   "id": "f0364616-abc9-4225-b745-87cb1d8d30fe",
   "metadata": {},
   "outputs": [],
   "source": [
    "library(tmap)\n",
    "tmap_mode(\"plot\") \n",
    "qtm(roads)"
   ]
  },
  {
   "cell_type": "markdown",
   "id": "38af839d-d897-442c-82ab-49e527fabc79",
   "metadata": {},
   "source": [
    "choropleth quick thematic map"
   ]
  },
  {
   "cell_type": "code",
   "execution_count": null,
   "id": "e91d8a9d-a3e1-4395-8026-94627aff78e8",
   "metadata": {},
   "outputs": [],
   "source": [
    "qtm(counties, fill = \"totpop10\", fill.title = \"Total population\")"
   ]
  },
  {
   "cell_type": "markdown",
   "id": "ccb1aa11-8269-4de7-a665-836c339e08da",
   "metadata": {},
   "source": [
    "using tm shape"
   ]
  },
  {
   "cell_type": "code",
   "execution_count": null,
   "id": "f4a2faef-154c-4a61-989a-da73983bdad5",
   "metadata": {},
   "outputs": [],
   "source": [
    "tm_shape(counties) +\n",
    "    tm_fill(col = \"totpop10\", convert2density = T, style = \"jenks\", \n",
    "    title = \"Population (x100)\") +\n",
    "    tm_borders(alpha = 0.3) +\n",
    "    tm_compass() +\n",
    "    tm_scale_bar()"
   ]
  },
  {
   "cell_type": "markdown",
   "id": "859e4b86-f807-49fd-912a-66d38b3bac00",
   "metadata": {},
   "source": [
    "Save map"
   ]
  },
  {
   "cell_type": "code",
   "execution_count": null,
   "id": "289f060c-c024-4ed8-a5b9-daaf038e8802",
   "metadata": {},
   "outputs": [],
   "source": [
    "save_tmap(tm, \"./fig/my_awesome_map.png\", width = 800, height = 1000)"
   ]
  },
  {
   "cell_type": "markdown",
   "id": "f97366cb-f811-4143-92eb-175db2d3a5bf",
   "metadata": {},
   "source": [
    "View interactive map"
   ]
  },
  {
   "cell_type": "code",
   "execution_count": null,
   "id": "7ef07bd9-b0dd-4036-83c8-d2aa7c11376d",
   "metadata": {},
   "outputs": [],
   "source": [
    "tmap_mode(\"view\")\n",
    "tm"
   ]
  }
 ],
 "metadata": {
  "kernelspec": {
   "display_name": "anaconda-panel-2023.05-py310",
   "language": "python",
   "name": "conda-env-anaconda-panel-2023.05-py310-py"
  },
  "language_info": {
   "codemirror_mode": {
    "name": "ipython",
    "version": 3
   },
   "file_extension": ".py",
   "mimetype": "text/x-python",
   "name": "python",
   "nbconvert_exporter": "python",
   "pygments_lexer": "ipython3",
   "version": "3.11.5"
  }
 },
 "nbformat": 4,
 "nbformat_minor": 5
}
