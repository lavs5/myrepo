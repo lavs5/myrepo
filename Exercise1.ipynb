{
 "cells": [
  {
   "cell_type": "markdown",
   "metadata": {},
   "source": [
    "Geopython course Exercise 1"
   ]
  },
  {
   "cell_type": "markdown",
   "metadata": {},
   "source": [
    "create int, float, string variables, calculate average, check data type, print"
   ]
  },
  {
   "cell_type": "code",
   "execution_count": 13,
   "metadata": {},
   "outputs": [],
   "source": [
    "ice_cream_rating= 4\n",
    "sleep_rating= 9"
   ]
  },
  {
   "cell_type": "code",
   "execution_count": 14,
   "metadata": {},
   "outputs": [],
   "source": [
    "first_name=\"Lavs\"\n",
    "last_name=\"5\""
   ]
  },
  {
   "cell_type": "code",
   "execution_count": 15,
   "metadata": {},
   "outputs": [],
   "source": [
    "happiness_rating=(ice_cream_rating+sleep_rating)/2"
   ]
  },
  {
   "cell_type": "code",
   "execution_count": 16,
   "metadata": {},
   "outputs": [
    {
     "name": "stdout",
     "output_type": "stream",
     "text": [
      "<class 'int'> <class 'int'> <class 'float'>\n"
     ]
    }
   ],
   "source": [
    "print(str(type(ice_cream_rating))+\" \"+str(type(sleep_rating))+\" \"+str(type(happiness_rating)))"
   ]
  },
  {
   "cell_type": "code",
   "execution_count": 17,
   "metadata": {},
   "outputs": [
    {
     "name": "stdout",
     "output_type": "stream",
     "text": [
      "My name is Lavs and I give eating ice cream a score of 4 out of 10!\n",
      "I am Lavs 5 and my sleeping enjoyment rating is 9 /10!\n",
      "Based on the factors above, my happiness rating is 6.5 out of 10, or 65.0 %!\n"
     ]
    }
   ],
   "source": [
    "print(\"My name is \"+first_name+\" and I give eating ice cream a score of \"+ str(ice_cream_rating)+ \" out of 10!\")\n",
    "print(\"I am \"+first_name+\" \"+last_name+\" and my sleeping enjoyment rating is \"+str(sleep_rating)+\" /10!\")\n",
    "print(\"Based on the factors above, my happiness rating is \"+str(happiness_rating)+\" out of 10, or \"+str((happiness_rating/10)*100)+\" %!\")"
   ]
  }
 ],
 "metadata": {
  "kernelspec": {
   "display_name": "Python 3",
   "language": "python",
   "name": "python3"
  },
  "language_info": {
   "codemirror_mode": {
    "name": "ipython",
    "version": 3
   },
   "file_extension": ".py",
   "mimetype": "text/x-python",
   "name": "python",
   "nbconvert_exporter": "python",
   "pygments_lexer": "ipython3",
   "version": "3.11.5"
  }
 },
 "nbformat": 4,
 "nbformat_minor": 2
}
