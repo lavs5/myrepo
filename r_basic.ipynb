{
 "cells": [
  {
   "cell_type": "markdown",
   "id": "fc78ff88-1a71-4b4d-a2d2-d5c585952cb9",
   "metadata": {},
   "source": [
    "Install the complete tidyverse with a single line of code:"
   ]
  },
  {
   "cell_type": "code",
   "execution_count": null,
   "id": "eaafbe0e-2ec2-4c18-ab9c-f6acc08692f1",
   "metadata": {},
   "outputs": [],
   "source": [
    "install.packages(\"tidyverse\")"
   ]
  },
  {
   "cell_type": "markdown",
   "id": "81ba2648-ebf1-4467-8ff9-fc86f4aa00ab",
   "metadata": {},
   "source": [
    "If updates are available, and optionally install them, by running "
   ]
  },
  {
   "cell_type": "code",
   "execution_count": null,
   "id": "e2f9c3de-7740-4d69-8f6a-1446b51e093b",
   "metadata": {},
   "outputs": [],
   "source": [
    "tidyverse_update()"
   ]
  },
  {
   "cell_type": "markdown",
   "id": "b10038ee-4932-4e5e-9cb0-8d2338a737be",
   "metadata": {},
   "source": [
    "To use a library"
   ]
  },
  {
   "cell_type": "code",
   "execution_count": null,
   "id": "784c1bf1-b59a-4c8f-908b-6f5a676f98b5",
   "metadata": {},
   "outputs": [],
   "source": [
    "library(tidyverse)"
   ]
  },
  {
   "cell_type": "markdown",
   "id": "37cf8b22-765a-4b80-bdd2-7980138286a7",
   "metadata": {},
   "source": [
    "If we need to be explicit about where a function (or dataset) comes from, we’ll use the special form package::function(). \n",
    "For example, ggplot2::ggplot() tells you explicitly that we’re using the ggplot() function from the ggplot2 package"
   ]
  },
  {
   "cell_type": "markdown",
   "id": "01f6c1b8-fe86-41ef-a69b-290f06589c25",
   "metadata": {},
   "source": [
    "create a plot"
   ]
  },
  {
   "cell_type": "code",
   "execution_count": null,
   "id": "15e9e955-e303-4681-bc4a-23f520276b6f",
   "metadata": {},
   "outputs": [],
   "source": [
    "ggplot(data = mpg) + \n",
    "    geom_point(mapping = aes(x = displ, y = hwy))"
   ]
  },
  {
   "cell_type": "markdown",
   "id": "59556457-c5ba-4ea7-a2da-b6f524faff35",
   "metadata": {},
   "source": [
    "plot using colors for variables based on another variable"
   ]
  },
  {
   "cell_type": "code",
   "execution_count": null,
   "id": "f00c8315-e78f-4793-9b3c-c1d84fbbb239",
   "metadata": {},
   "outputs": [],
   "source": [
    "ggplot(data = mpg) + \n",
    "    geom_point(mapping = aes(x = displ, y = hwy, color = class))"
   ]
  },
  {
   "cell_type": "markdown",
   "id": "02d35114-b138-43ba-b34c-f5571ed99c0a",
   "metadata": {},
   "source": [
    "alpha aesthetic controls the transparency of the points"
   ]
  },
  {
   "cell_type": "code",
   "execution_count": null,
   "id": "ed7d1917-f135-4a1a-b51b-f87525f9c663",
   "metadata": {},
   "outputs": [],
   "source": [
    "ggplot(data = mpg) + \n",
    "    geom_point(mapping = aes(x = displ, y = hwy, alpha = class))"
   ]
  },
  {
   "cell_type": "markdown",
   "id": "58a87adc-6855-45e2-a35d-ecacc886e27e",
   "metadata": {},
   "source": [
    "shape aesthetic controls the shape of the points"
   ]
  },
  {
   "cell_type": "code",
   "execution_count": null,
   "id": "1b760889-bce0-4e70-8659-349ee661c779",
   "metadata": {},
   "outputs": [],
   "source": [
    "ggplot(data = mpg) + \n",
    "    geom_point(mapping = aes(x = displ, y = hwy, shape = class))"
   ]
  },
  {
   "cell_type": "markdown",
   "id": "45555663-aeb6-4370-aa70-4ef63830fbcd",
   "metadata": {},
   "source": [
    "single color to all points"
   ]
  },
  {
   "cell_type": "code",
   "execution_count": null,
   "id": "ee9229b2-5d16-4e3e-9e49-6ea550eb49e8",
   "metadata": {},
   "outputs": [],
   "source": [
    "ggplot(data = mpg) + \n",
    "     geom_point(mapping = aes(x = displ, y = hwy), color = \"blue\")"
   ]
  },
  {
   "cell_type": "markdown",
   "id": "c7676ec2-db9a-45cd-8583-6ccc2282e08a",
   "metadata": {},
   "source": [
    "smooth curve plot"
   ]
  },
  {
   "cell_type": "code",
   "execution_count": null,
   "id": "fc104c7a-fc5e-4737-ab24-0dd34a480260",
   "metadata": {},
   "outputs": [],
   "source": [
    "ggplot(data = mpg) + \n",
    "    geom_smooth(mapping = aes(x = displ, y = hwy))"
   ]
  },
  {
   "cell_type": "markdown",
   "id": "8cfe0483-e0b4-4560-a7ed-0409003e124b",
   "metadata": {},
   "source": [
    "Point and smooth curve"
   ]
  },
  {
   "cell_type": "code",
   "execution_count": null,
   "id": "b8212106-f2c5-44dc-bcd2-4930dbcf245b",
   "metadata": {},
   "outputs": [],
   "source": [
    "ggplot(data = mpg, mapping = aes(x = displ, y = hwy)) + \n",
    "    geom_point() +\n",
    "    geom_smooth()"
   ]
  },
  {
   "cell_type": "markdown",
   "id": "88215e27-a8da-4de3-b1e6-e5f33d847209",
   "metadata": {},
   "source": [
    "Bar chart"
   ]
  },
  {
   "cell_type": "code",
   "execution_count": null,
   "id": "e18e32fb-d0bd-4a0b-ba01-5078fb074aa0",
   "metadata": {},
   "outputs": [],
   "source": [
    "ggplot(data = diamonds) + \n",
    "    geom_bar(mapping = aes(x = cut))"
   ]
  },
  {
   "cell_type": "markdown",
   "id": "6278ec98-d86e-4593-96f6-ea84130cec7a",
   "metadata": {},
   "source": [
    "colored bar chart"
   ]
  },
  {
   "cell_type": "code",
   "execution_count": null,
   "id": "971abbfe-13c2-4ce5-8a96-a4a389753b9b",
   "metadata": {},
   "outputs": [],
   "source": [
    "ggplot(data = diamonds) + \n",
    "    geom_bar(mapping = aes(x = cut, fill = cut))"
   ]
  },
  {
   "cell_type": "markdown",
   "id": "02956bf7-e66f-48bf-b3e6-c7b27a6838c8",
   "metadata": {},
   "source": [
    "colored stacked bar"
   ]
  },
  {
   "cell_type": "code",
   "execution_count": null,
   "id": "597f60fe-c4b7-4306-bfa1-6b62855c00d0",
   "metadata": {},
   "outputs": [],
   "source": [
    "ggplot(data = diamonds) + \n",
    "    geom_bar(mapping = aes(x = cut, fill = clarity))"
   ]
  },
  {
   "cell_type": "markdown",
   "id": "f9f6f41e-b525-481c-a164-d900bf6be67a",
   "metadata": {},
   "source": [
    "position = \"dodge\" places overlapping objects directly beside one another. This makes it easier to compare individual values."
   ]
  },
  {
   "cell_type": "code",
   "execution_count": null,
   "id": "fee012d7-2ea0-40a6-9db7-061feaec6529",
   "metadata": {},
   "outputs": [],
   "source": [
    "ggplot(data = diamonds) + \n",
    "    geom_bar(mapping = aes(x = cut, fill = clarity), position = \"dodge\")"
   ]
  },
  {
   "cell_type": "markdown",
   "id": "9677ab21-5e7a-46f0-b652-d53a91490425",
   "metadata": {},
   "source": [
    "Box plot"
   ]
  },
  {
   "cell_type": "code",
   "execution_count": null,
   "id": "20143a23-6466-4b45-a8a3-4ba79b8ab1b4",
   "metadata": {},
   "outputs": [],
   "source": [
    "ggplot(data = mpg, mapping = aes(x = class, y = hwy)) + \n",
    "    geom_boxplot()"
   ]
  },
  {
   "cell_type": "markdown",
   "id": "4294f80e-1736-49e6-8db6-099409db51b7",
   "metadata": {},
   "source": [
    "Quick map"
   ]
  },
  {
   "cell_type": "code",
   "execution_count": null,
   "id": "48706e98-40f5-4f8c-9641-b49d93666407",
   "metadata": {},
   "outputs": [],
   "source": [
    "nz <- map_data(\"nz\")\n",
    "ggplot(nz, aes(long, lat, group = group)) +\n",
    "  geom_polygon(fill = \"white\", colour = \"black\")\n",
    "    \n",
    "ggplot(nz, aes(long, lat, group = group)) +\n",
    "  geom_polygon(fill = \"white\", colour = \"black\") +\n",
    "  coord_quickmap()"
   ]
  }
 ],
 "metadata": {
  "kernelspec": {
   "display_name": "anaconda-panel-2023.05-py310",
   "language": "python",
   "name": "conda-env-anaconda-panel-2023.05-py310-py"
  },
  "language_info": {
   "codemirror_mode": {
    "name": "ipython",
    "version": 3
   },
   "file_extension": ".py",
   "mimetype": "text/x-python",
   "name": "python",
   "nbconvert_exporter": "python",
   "pygments_lexer": "ipython3",
   "version": "3.11.5"
  }
 },
 "nbformat": 4,
 "nbformat_minor": 5
}
