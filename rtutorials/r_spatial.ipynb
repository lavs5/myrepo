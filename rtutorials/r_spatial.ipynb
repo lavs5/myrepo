{
 "cells": [
  {
   "cell_type": "markdown",
   "id": "c8f5b5c4-c87a-44aa-8618-21ef0f9badbb",
   "metadata": {},
   "source": [
    "R for maps"
   ]
  },
  {
   "cell_type": "markdown",
   "id": "29664695-d114-4f65-8e94-0db834374247",
   "metadata": {},
   "source": [
    "https://www.emilyburchfield.org/courses/eds/making_maps_in_r"
   ]
  },
  {
   "cell_type": "markdown",
   "id": "e994325c-9991-4d56-b40c-9d07a3b6f6dc",
   "metadata": {},
   "source": [
    "https://eriqande.github.io/rep-res-web/lectures/making-maps-with-R.html"
   ]
  },
  {
   "cell_type": "markdown",
   "id": "c8db7991-7695-4e7c-b845-577884d1c0fa",
   "metadata": {
    "tags": []
   },
   "source": [
    "Libraries"
   ]
  },
  {
   "cell_type": "code",
   "execution_count": null,
   "id": "16e27c42-5567-4e39-aecd-248d957cfca0",
   "metadata": {},
   "outputs": [],
   "source": [
    "install.packages(c(\"ggplot2\",\"devtools\",\"dplyr\",\"stringr\",\"maps\",\"mapdata\",\"ggmap\"))\n",
    "library(tidyverse)\n",
    "library(sf)\n",
    "library(tmap)\n",
    "library(spData)\n",
    "library(ggplot2)\n",
    "library(ggmao)\n",
    "library(maps)\n",
    "library(mapdata)"
   ]
  },
  {
   "cell_type": "markdown",
   "id": "9d0e7dd3-4b3c-48a4-b4b0-5e568d2b015e",
   "metadata": {},
   "source": [
    "Example: US Counties, Georgia\n",
    "\n",
    "Major US Roads: \n",
    "https://catalog.data.gov/dataset/tiger-line-shapefile-2016-nation-u-s-primary-roads-national-shapefile\n",
    "GA counties: \n",
    "https://arc-garc.opendata.arcgis.com/datasets/dc20713282734a73abe990995de40497_68\n"
   ]
  },
  {
   "cell_type": "markdown",
   "id": "690871b9-fa46-474a-ad0c-3b1e9552c61c",
   "metadata": {},
   "source": [
    "Read data, filter by name"
   ]
  },
  {
   "cell_type": "code",
   "execution_count": null,
   "id": "ab08e5c0-ea4b-4209-a5d8-d386bba5e4e3",
   "metadata": {},
   "outputs": [],
   "source": [
    "data(\"us_states\") # from spData package\n",
    "ga <- us_states %% filter(NAME == \"Georgia\")\n",
    "counties <- st_read(\"myfolder/counties.shp\", quiet=T)\n",
    "roads <- st_read(\"myfolder/roads.shp\")"
   ]
  },
  {
   "cell_type": "markdown",
   "id": "64b6a7eb-5acb-4a6b-9b0a-58a5704f2a50",
   "metadata": {},
   "source": [
    "Create projection variable"
   ]
  },
  {
   "cell_type": "code",
   "execution_count": null,
   "id": "77e7d67e-42fb-4381-b6fb-9f5a6b227815",
   "metadata": {},
   "outputs": [],
   "source": [
    "proj <- \"+proj=lcc +lat_1=31.41666666666667 +lat_2=34.28333333333333 +lat_0=0 +lon_0=-83.5 +x_0=0 +y_0=0 +ellps=GRS80 +datum=NAD83 +to_meter=0.3048006096012192 +no_defs\""
   ]
  },
  {
   "cell_type": "markdown",
   "id": "3b843281-a1aa-4591-9c69-c1e4b4b63989",
   "metadata": {},
   "source": [
    "Reproject inputs"
   ]
  },
  {
   "cell_type": "code",
   "execution_count": null,
   "id": "08929aff-3cc9-4fa1-a8fe-6852d374f7b5",
   "metadata": {},
   "outputs": [],
   "source": [
    "roads <- st_transform(roads, proj)\n",
    "ga <- st_transform(ga, proj)\n",
    "counties <- st_transform(counties, proj)"
   ]
  },
  {
   "cell_type": "markdown",
   "id": "cdd0487f-8c01-4f60-9d9e-fe096dc339b2",
   "metadata": {},
   "source": [
    "Clip road by selected state input"
   ]
  },
  {
   "cell_type": "code",
   "execution_count": null,
   "id": "ad6dbd32-2174-480b-bf3c-48d0db35d30b",
   "metadata": {},
   "outputs": [],
   "source": [
    "roads <- st_crop(roads, ga)"
   ]
  },
  {
   "cell_type": "markdown",
   "id": "aab87c3d-5795-40b4-a0e5-d9c11a1fcde4",
   "metadata": {},
   "source": [
    "Plot state, counties, and roads"
   ]
  },
  {
   "cell_type": "code",
   "execution_count": null,
   "id": "b71c228b-394a-427f-a81e-82d71a485435",
   "metadata": {},
   "outputs": [],
   "source": [
    "plot(st_geometry(ga))\n",
    "plot(st_geometry(counties), add = T, col = \"red\")\n",
    "plot(st_geometry(roads), add = T, col = \"blue\")"
   ]
  },
  {
   "cell_type": "markdown",
   "id": "d002ab39-449c-4ccc-9639-a05bdcdac9fb",
   "metadata": {},
   "source": [
    "------------"
   ]
  },
  {
   "cell_type": "markdown",
   "id": "225e58e6-1ac1-47bf-9650-e75dc8d2ceda",
   "metadata": {},
   "source": [
    "Using ggplot"
   ]
  },
  {
   "cell_type": "code",
   "execution_count": null,
   "id": "f9b20830-b565-4dd7-bcc6-cf7b03a41a7f",
   "metadata": {},
   "outputs": [],
   "source": [
    "ggplot(ga) +  geom_sf()"
   ]
  },
  {
   "cell_type": "markdown",
   "id": "5462a895-1047-4b0f-86f0-0e82c52f00a0",
   "metadata": {},
   "source": [
    "with title"
   ]
  },
  {
   "cell_type": "code",
   "execution_count": null,
   "id": "3fad3d5e-26d9-441c-ba1b-c292f7e1069a",
   "metadata": {},
   "outputs": [],
   "source": [
    "ggplot(ga) + \n",
    "  geom_sf(fill = \"beige\") +  \n",
    "  labs(title = \"The fine state of Georgia\") +  \n",
    "  theme_minimal()"
   ]
  },
  {
   "cell_type": "markdown",
   "id": "0b21f0c3-5dc3-46dd-bcf7-ae51a71fe4b5",
   "metadata": {},
   "source": [
    "with more info"
   ]
  },
  {
   "cell_type": "code",
   "execution_count": null,
   "id": "b5bc9e32-9d97-44a8-b88b-e74eddf6dfce",
   "metadata": {},
   "outputs": [],
   "source": [
    "ggplot() +\n",
    "  geom_sf(data = counties, aes(fill = totpop10)) +\n",
    "  geom_sf(data = roads, color = \"orange\") +\n",
    "  labs(title = \"All roads lead to the ATL\", fill = \"Population\") +\n",
    "  theme_minimal()"
   ]
  },
  {
   "cell_type": "markdown",
   "id": "71619c84-8f5f-4406-ac36-5fd334690992",
   "metadata": {},
   "source": [
    "Using ggspatial, north arrow, scalebar"
   ]
  },
  {
   "cell_type": "code",
   "execution_count": null,
   "id": "c880ca57-d03e-40ef-93e0-9c23ec9cf025",
   "metadata": {},
   "outputs": [],
   "source": [
    "library(ggspatial)\n",
    "ggplot() +\n",
    "  geom_sf(data = counties, aes(fill = totpop10)) +\n",
    "  geom_sf(data = roads, color = \"orange\") +\n",
    "  labs(title = \"All roads lead to the ATL\", fill = \"Population\") +\n",
    "  theme_minimal() +\n",
    "  annotation_scale(location = \"bl\", width_hint = 0.5) +\n",
    "  annotation_north_arrow(location = \"tr\", which_north = \"true\", style = north_arrow_fancy_orienteering())"
   ]
  },
  {
   "cell_type": "markdown",
   "id": "c45c9ff6-5de5-454c-842d-150f0946c20b",
   "metadata": {},
   "source": [
    "Using tmap"
   ]
  },
  {
   "cell_type": "code",
   "execution_count": null,
   "id": "f0364616-abc9-4225-b745-87cb1d8d30fe",
   "metadata": {},
   "outputs": [],
   "source": [
    "library(tmap)\n",
    "tmap_mode(\"plot\") \n",
    "qtm(roads)"
   ]
  },
  {
   "cell_type": "markdown",
   "id": "38af839d-d897-442c-82ab-49e527fabc79",
   "metadata": {},
   "source": [
    "choropleth quick thematic map"
   ]
  },
  {
   "cell_type": "code",
   "execution_count": null,
   "id": "e91d8a9d-a3e1-4395-8026-94627aff78e8",
   "metadata": {},
   "outputs": [],
   "source": [
    "qtm(counties, fill = \"totpop10\", fill.title = \"Total population\")"
   ]
  },
  {
   "cell_type": "markdown",
   "id": "ccb1aa11-8269-4de7-a665-836c339e08da",
   "metadata": {},
   "source": [
    "using tm shape"
   ]
  },
  {
   "cell_type": "code",
   "execution_count": null,
   "id": "f4a2faef-154c-4a61-989a-da73983bdad5",
   "metadata": {},
   "outputs": [],
   "source": [
    "tm_shape(counties) +\n",
    "    tm_fill(col = \"totpop10\", convert2density = T, style = \"jenks\", \n",
    "    title = \"Population (x100)\") +\n",
    "    tm_borders(alpha = 0.3) +\n",
    "    tm_compass() +\n",
    "    tm_scale_bar()"
   ]
  },
  {
   "cell_type": "markdown",
   "id": "859e4b86-f807-49fd-912a-66d38b3bac00",
   "metadata": {},
   "source": [
    "Save map"
   ]
  },
  {
   "cell_type": "code",
   "execution_count": null,
   "id": "289f060c-c024-4ed8-a5b9-daaf038e8802",
   "metadata": {},
   "outputs": [],
   "source": [
    "save_tmap(tm, \"./fig/my_awesome_map.png\", width = 800, height = 1000)"
   ]
  },
  {
   "cell_type": "markdown",
   "id": "f97366cb-f811-4143-92eb-175db2d3a5bf",
   "metadata": {},
   "source": [
    "View interactive map"
   ]
  },
  {
   "cell_type": "code",
   "execution_count": null,
   "id": "7ef07bd9-b0dd-4036-83c8-d2aa7c11376d",
   "metadata": {},
   "outputs": [],
   "source": [
    "tmap_mode(\"view\")\n",
    "tm"
   ]
  },
  {
   "cell_type": "markdown",
   "id": "1eb3056f-ef24-46c2-a1e1-f473758c4c7e",
   "metadata": {},
   "source": [
    "---------"
   ]
  },
  {
   "cell_type": "markdown",
   "id": "e7a8f3cb-fba8-4a1a-8f4e-59cd001ebbec",
   "metadata": {},
   "source": [
    "examples from 2nd link"
   ]
  },
  {
   "cell_type": "markdown",
   "id": "94a3fcd5-bb39-4c6e-9f5f-15544c7b3af1",
   "metadata": {},
   "source": [
    "we get a USA map from maps:"
   ]
  },
  {
   "cell_type": "code",
   "execution_count": null,
   "id": "97504f01-8a64-4a9b-9312-85a2cc0d4a61",
   "metadata": {},
   "outputs": [],
   "source": [
    "usa <- map_data(\"usa\")\n",
    "\n",
    "dim(usa)"
   ]
  },
  {
   "cell_type": "markdown",
   "id": "c6a1f630-6102-4fd2-8914-8bb053362539",
   "metadata": {},
   "source": [
    "high-res world map centered on the Pacific Ocean from mapdata"
   ]
  },
  {
   "cell_type": "code",
   "execution_count": null,
   "id": "c1037f29-0fd1-40cb-bf7b-5004960b887b",
   "metadata": {},
   "outputs": [],
   "source": [
    "w2hr <- map_data(\"world2Hires\")\n",
    "\n",
    "dim(w2hr)"
   ]
  },
  {
   "cell_type": "markdown",
   "id": "7fe58adc-6149-40f2-8cb4-0e618ddba495",
   "metadata": {},
   "source": [
    "geom_polygon() draws with no line color, but with a black fill:"
   ]
  },
  {
   "cell_type": "code",
   "execution_count": null,
   "id": "10d12b48-c990-4b79-be9d-a7da4017c247",
   "metadata": {},
   "outputs": [],
   "source": [
    "ggplot() + geom_polygon(data = usa, aes(x=long, y = lat, group = group)) + \n",
    "  coord_fixed(1.3)"
   ]
  },
  {
   "cell_type": "markdown",
   "id": "c5b871cd-34de-44a5-8944-cc4963f1a7c2",
   "metadata": {},
   "source": [
    "coord_fixed() fixes the relationship between one unit in the y direction and one unit in the x direction"
   ]
  },
  {
   "cell_type": "markdown",
   "id": "f8db0485-e0f6-4f5b-ae80-d7caae67fce7",
   "metadata": {},
   "source": [
    "No fill only outline:"
   ]
  },
  {
   "cell_type": "code",
   "execution_count": null,
   "id": "899a701d-c7e3-48a5-87e1-bb0c36d66910",
   "metadata": {},
   "outputs": [],
   "source": [
    "ggplot() + \n",
    "  geom_polygon(data = usa, aes(x=long, y = lat, group = group), fill = NA, color = \"red\") + \n",
    "  coord_fixed(1.3)"
   ]
  },
  {
   "cell_type": "markdown",
   "id": "c3f584db-043d-49e1-acec-a94621950033",
   "metadata": {},
   "source": [
    "violet fill, with a blue line:"
   ]
  },
  {
   "cell_type": "code",
   "execution_count": null,
   "id": "b68c7e71-6628-4bea-9b96-c3f548a5dadf",
   "metadata": {},
   "outputs": [],
   "source": [
    "gg1 <-ggplot() + \n",
    "  geom_polygon(data = usa, aes(x=long, y = lat, group = group), fill = \"violet\", color = \"blue\") + \n",
    "  coord_fixed(1.3)\n",
    "gg1"
   ]
  },
  {
   "cell_type": "markdown",
   "id": "8bb9e85b-1d6a-4934-95dc-874a2aba3380",
   "metadata": {},
   "source": [
    "Adding points to the map"
   ]
  },
  {
   "cell_type": "code",
   "execution_count": null,
   "id": "b6b8b151-2c55-4a4c-bcc9-e1f5a6557fa4",
   "metadata": {},
   "outputs": [],
   "source": [
    "pts <- data.frame(\n",
    "                  long = c(-122.064873, -122.306417),\n",
    "                  lat = c(36.951968, 47.644855),\n",
    "                  names = c(\"ptA\", \"ptB\"),\n",
    "                  stringsAsFactors = FALSE\n",
    "                  )  \n",
    "\n",
    "gg1 + \n",
    "  geom_point(data = pts, aes(x = long, y = lat), color = \"black\", size = 5) +\n",
    "  geom_point(data = pts, aes(x = long, y = lat), color = \"yellow\", size = 4)"
   ]
  },
  {
   "cell_type": "markdown",
   "id": "d1b40c82-f125-49cb-ad61-9ac4cb2e277e",
   "metadata": {},
   "source": [
    "State maps"
   ]
  },
  {
   "cell_type": "code",
   "execution_count": null,
   "id": "bfca2a1d-5c73-4dea-89fd-2d4037c0c396",
   "metadata": {},
   "outputs": [],
   "source": [
    "states <- map_data(\"state\")\n",
    "dim(states)"
   ]
  },
  {
   "cell_type": "markdown",
   "id": "a7143a16-bb7b-4ab6-bff0-e81d1f341067",
   "metadata": {},
   "source": [
    "Plot all the states, all colored a little differently"
   ]
  },
  {
   "cell_type": "code",
   "execution_count": null,
   "id": "43c04adb-07b5-474f-abcf-53e9e7253f83",
   "metadata": {},
   "outputs": [],
   "source": [
    "ggplot(data = states) + \n",
    "  geom_polygon(aes(x = long, y = lat, fill = region, group = group), color = \"white\") + \n",
    "  coord_fixed(1.3) +\n",
    "  guides(fill=FALSE)"
   ]
  },
  {
   "cell_type": "markdown",
   "id": "e9fd00dc-8d4a-4474-ae0d-ae5fd82706f4",
   "metadata": {},
   "source": [
    "counties"
   ]
  },
  {
   "cell_type": "markdown",
   "id": "5282680a-a360-429b-a3af-98b8fc7e3824",
   "metadata": {},
   "source": [
    "Get California, counties"
   ]
  },
  {
   "cell_type": "code",
   "execution_count": null,
   "id": "09edb3e0-b902-4982-8465-922015180dc5",
   "metadata": {},
   "outputs": [],
   "source": [
    "ca_df <- subset(states, region == \"california\")\n",
    "counties <- map_data(\"county\")\n",
    "ca_county <- subset(counties, region == \"california\")"
   ]
  },
  {
   "cell_type": "markdown",
   "id": "1ece9b6f-4734-451a-8ebe-6b8c9d400a4e",
   "metadata": {},
   "source": [
    "Plot state"
   ]
  },
  {
   "cell_type": "code",
   "execution_count": null,
   "id": "32bd0da5-b1db-4672-9ce5-e9c3bdf142a7",
   "metadata": {},
   "outputs": [],
   "source": [
    "ca_base <- ggplot(data = ca_df, \n",
    "                  mapping = aes(x = long, y = lat, group = group)) + \n",
    "          coord_fixed(1.3) + \n",
    "          geom_polygon(color = \"black\", fill = \"gray\")\n",
    "ca_base + theme_nothing()"
   ]
  },
  {
   "cell_type": "markdown",
   "id": "9893ef3f-edb1-4b97-b2cb-bc88c188c581",
   "metadata": {},
   "source": [
    "plot the county boundaries in white"
   ]
  },
  {
   "cell_type": "code",
   "execution_count": null,
   "id": "b9a573cc-1fc9-45eb-96ea-83ac8343bd50",
   "metadata": {},
   "outputs": [],
   "source": [
    "ca_base + theme_nothing() + \n",
    "  geom_polygon(data = ca_county, fill = NA, color = \"white\") +\n",
    "  geom_polygon(color = \"black\", fill = NA)  # get the state border back on top"
   ]
  },
  {
   "cell_type": "markdown",
   "id": "7c7623aa-21cf-433c-aa5a-da3c05bb51f5",
   "metadata": {},
   "source": [
    "stats about counties using regex"
   ]
  },
  {
   "cell_type": "code",
   "execution_count": null,
   "id": "d511024d-2043-4456-9a1a-4510712e5790",
   "metadata": {},
   "outputs": [],
   "source": [
    "library(stringr)\n",
    "library(dplyr)"
   ]
  },
  {
   "cell_type": "code",
   "execution_count": null,
   "id": "c055ad83-3095-45da-9207-cb5f788a0c68",
   "metadata": {},
   "outputs": [],
   "source": [
    " # make a data frame\n",
    "    x <- readLines(\"data/ca-counties-wikipedia.txt\")\n",
    "    pop_and_area <- str_match(x, \"^([a-zA-Z ]+)County\\t.*\\t([0-9,]{2,10})\\t([0-9,]{2,10}) sq mi$\")[, -1] %>%\n",
    "      na.omit() %>%\n",
    "      str_replace_all(\",\", \"\") %>% \n",
    "      str_trim() %>%\n",
    "      tolower() %>%\n",
    "      as.data.frame(stringsAsFactors = FALSE)"
   ]
  },
  {
   "cell_type": "code",
   "execution_count": null,
   "id": "f334ac0f-da7a-4d51-bf64-9035e74fd4c5",
   "metadata": {},
   "outputs": [],
   "source": [
    " # give names and make population and area numeric\n",
    "    names(pop_and_area) <- c(\"subregion\", \"population\", \"area\")\n",
    "    pop_and_area$population <- as.numeric(pop_and_area$population)\n",
    "    pop_and_area$area <- as.numeric(pop_and_area$area)"
   ]
  },
  {
   "cell_type": "code",
   "execution_count": null,
   "id": "ccd3197b-649c-4ec9-9f12-ffd887c3fe57",
   "metadata": {},
   "outputs": [],
   "source": [
    "head(pop_and_area)"
   ]
  },
  {
   "cell_type": "markdown",
   "id": "087085af-8174-4fa6-bdde-4a8b86552f5a",
   "metadata": {},
   "source": [
    "We now have the numbers that we want, but we need to attach those to every point on polygons of the counties. This is a job for inner_join from the dplyr package"
   ]
  },
  {
   "cell_type": "code",
   "execution_count": null,
   "id": "84277074-c5e7-49f6-907f-b9e7295d0460",
   "metadata": {},
   "outputs": [],
   "source": [
    "cacopa <- inner_join(ca_county, pop_and_area, by = \"subregion\")"
   ]
  },
  {
   "cell_type": "markdown",
   "id": "1e6f7669-2742-44d9-a808-1ab9e212abdf",
   "metadata": {},
   "source": [
    "add a column of people_per_mile"
   ]
  },
  {
   "cell_type": "code",
   "execution_count": null,
   "id": "643dcbe8-8823-473f-a970-edeb8d9a4806",
   "metadata": {},
   "outputs": [],
   "source": [
    "cacopa$people_per_mile <- cacopa$population / cacopa$area"
   ]
  },
  {
   "cell_type": "markdown",
   "id": "81c209ec-4342-4c80-b4ca-434604396bd2",
   "metadata": {},
   "source": [
    "plot population density by county"
   ]
  },
  {
   "cell_type": "code",
   "execution_count": null,
   "id": "50858a23-b982-4df7-9eec-9f2e028c9060",
   "metadata": {},
   "outputs": [],
   "source": [
    "# prepare to drop the axes and ticks but leave the guides and legends\n",
    "\n",
    "ditch_the_axes <- theme(\n",
    "  axis.text = element_blank(),\n",
    "  axis.line = element_blank(),\n",
    "  axis.ticks = element_blank(),\n",
    "  panel.border = element_blank(),\n",
    "  panel.grid = element_blank(),\n",
    "  axis.title = element_blank()\n",
    "  )\n",
    "\n",
    "elbow_room1 <- ca_base + \n",
    "      geom_polygon(data = cacopa, aes(fill = people_per_mile), color = \"white\") +\n",
    "      geom_polygon(color = \"black\", fill = NA) +\n",
    "      theme_bw() +\n",
    "      ditch_the_axes\n",
    "\n",
    "elbow_room1 \n"
   ]
  },
  {
   "cell_type": "markdown",
   "id": "cfd14ce0-e322-489b-bf12-01ac4c644d0e",
   "metadata": {},
   "source": [
    "gradient color by pop density"
   ]
  },
  {
   "cell_type": "code",
   "execution_count": null,
   "id": "f4c8b296-2152-49ab-bae4-c6d8ed50913b",
   "metadata": {},
   "outputs": [],
   "source": [
    "elbow_room1 + scale_fill_gradient(trans = \"log10\")"
   ]
  },
  {
   "cell_type": "markdown",
   "id": "a9187e8e-c675-4163-8753-866870ccc70d",
   "metadata": {},
   "source": [
    "Different color ramp"
   ]
  },
  {
   "cell_type": "code",
   "execution_count": null,
   "id": "f91cf7a0-7f2e-487a-a0ea-431843880be3",
   "metadata": {},
   "outputs": [],
   "source": [
    "eb2 <- elbow_room1 + \n",
    "    scale_fill_gradientn(colours = rev(rainbow(7)),\n",
    "                         breaks = c(2, 4, 10, 100, 1000, 10000),\n",
    "                         trans = \"log10\")\n",
    "eb2"
   ]
  },
  {
   "cell_type": "markdown",
   "id": "306fe74d-3e95-4dd3-87bb-69c16ff2bf17",
   "metadata": {},
   "source": [
    "Zoom in"
   ]
  },
  {
   "cell_type": "code",
   "execution_count": null,
   "id": "4fab6015-20fc-4cb2-a6d2-193b10224aef",
   "metadata": {},
   "outputs": [],
   "source": [
    "eb2 + xlim(-123, -121.0) + ylim(36, 38)"
   ]
  },
  {
   "cell_type": "code",
   "execution_count": null,
   "id": "307aa1bb-8409-4bb2-87ac-24d21c521d2b",
   "metadata": {},
   "outputs": [],
   "source": [
    "eb2 + coord_fixed(xlim = c(-123, -121.0),  ylim = c(36, 38), ratio = 1.3)"
   ]
  },
  {
   "cell_type": "markdown",
   "id": "06d5ebb2-2dd9-4033-b194-01ec7daaf401",
   "metadata": {},
   "source": [
    "----------------"
   ]
  },
  {
   "cell_type": "markdown",
   "id": "f6367cd9-04f6-47d1-8821-1cf0a668fb8a",
   "metadata": {},
   "source": [
    "Plot a bike route"
   ]
  },
  {
   "cell_type": "code",
   "execution_count": null,
   "id": "daff74ff-0aee-46b2-8f18-dac6ac9de496",
   "metadata": {},
   "outputs": [],
   "source": [
    "bike <- read.csv(\"data/bike-ride.csv\")\n",
    "head(bike)"
   ]
  },
  {
   "cell_type": "markdown",
   "id": "98c870cd-67e1-47c9-90da-abc23f125942",
   "metadata": {},
   "source": [
    "Map from URL : http://maps.googleapis.com/maps/api/staticmap?center=36.971709,-122.080954&zoom=14&size=640x640&scale=2&maptype=terrain&language=en-EN&sensor=false"
   ]
  },
  {
   "cell_type": "code",
   "execution_count": null,
   "id": "2e5f5e8a-9df6-42e9-bc82-65060630c48a",
   "metadata": {},
   "outputs": [],
   "source": [
    "bikemap1 <- get_map(location = c(-122.080954, 36.971709), maptype = \"terrain\", source = \"google\", zoom = 14)"
   ]
  },
  {
   "cell_type": "markdown",
   "id": "0af74c30-a6e1-4fa0-9841-2df81138a448",
   "metadata": {},
   "source": [
    "plot"
   ]
  },
  {
   "cell_type": "code",
   "execution_count": null,
   "id": "9cb09a2d-5784-46f2-8b53-730dc00fac88",
   "metadata": {},
   "outputs": [],
   "source": [
    "ggmap(bikemap1) + \n",
    "  geom_path(data = bike, aes(color = elevation), size = 3, lineend = \"round\") + \n",
    "  scale_color_gradientn(colours = rainbow(7), breaks = seq(25, 200, by = 25))\n"
   ]
  },
  {
   "cell_type": "code",
   "execution_count": null,
   "id": "d4062541-562b-44cc-87ff-efc2fe3fa295",
   "metadata": {},
   "outputs": [],
   "source": []
  }
 ],
 "metadata": {
  "kernelspec": {
   "display_name": "anaconda-panel-2023.05-py310",
   "language": "python",
   "name": "conda-env-anaconda-panel-2023.05-py310-py"
  },
  "language_info": {
   "codemirror_mode": {
    "name": "ipython",
    "version": 3
   },
   "file_extension": ".py",
   "mimetype": "text/x-python",
   "name": "python",
   "nbconvert_exporter": "python",
   "pygments_lexer": "ipython3",
   "version": "3.11.5"
  }
 },
 "nbformat": 4,
 "nbformat_minor": 5
}
