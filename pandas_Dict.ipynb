{
 "cells": [
  {
   "cell_type": "code",
   "execution_count": 55,
   "id": "89e8b07d-1dc6-49ee-b057-dedf0dd5613a",
   "metadata": {},
   "outputs": [],
   "source": [
    "import pandas as pd"
   ]
  },
  {
   "cell_type": "code",
   "execution_count": 70,
   "id": "0ef5c8e7-4b15-4302-8cbe-5880423b789f",
   "metadata": {},
   "outputs": [],
   "source": [
    "fp=\"data/029440.txt\""
   ]
  },
  {
   "cell_type": "code",
   "execution_count": 153,
   "id": "c55fe711-9427-481a-b77c-d5181ca6d673",
   "metadata": {},
   "outputs": [
    {
     "name": "stderr",
     "output_type": "stream",
     "text": [
      "/tmp/ipykernel_437/4186475552.py:1: DtypeWarning: Columns (29,30,31) have mixed types. Specify dtype option on import or set low_memory=False.\n",
      "  data = pd.read_csv(\n"
     ]
    },
    {
     "data": {
      "text/html": [
       "<div>\n",
       "<style scoped>\n",
       "    .dataframe tbody tr th:only-of-type {\n",
       "        vertical-align: middle;\n",
       "    }\n",
       "\n",
       "    .dataframe tbody tr th {\n",
       "        vertical-align: top;\n",
       "    }\n",
       "\n",
       "    .dataframe thead th {\n",
       "        text-align: right;\n",
       "    }\n",
       "</style>\n",
       "<table border=\"1\" class=\"dataframe\">\n",
       "  <thead>\n",
       "    <tr style=\"text-align: right;\">\n",
       "      <th></th>\n",
       "      <th>USAF</th>\n",
       "      <th>WBAN</th>\n",
       "      <th>YR--MODAHRMN</th>\n",
       "      <th>DIR</th>\n",
       "      <th>SPD</th>\n",
       "      <th>GUS</th>\n",
       "      <th>CLG</th>\n",
       "      <th>SKC</th>\n",
       "      <th>L</th>\n",
       "      <th>M</th>\n",
       "      <th>...</th>\n",
       "      <th>SLP</th>\n",
       "      <th>ALT</th>\n",
       "      <th>STP</th>\n",
       "      <th>MAX</th>\n",
       "      <th>MIN</th>\n",
       "      <th>PCP01</th>\n",
       "      <th>PCP06</th>\n",
       "      <th>PCP24</th>\n",
       "      <th>PCPXX</th>\n",
       "      <th>SD</th>\n",
       "    </tr>\n",
       "  </thead>\n",
       "  <tbody>\n",
       "    <tr>\n",
       "      <th>0</th>\n",
       "      <td>29440</td>\n",
       "      <td>99999</td>\n",
       "      <td>190601010600</td>\n",
       "      <td>90.0</td>\n",
       "      <td>7.0</td>\n",
       "      <td>NaN</td>\n",
       "      <td>NaN</td>\n",
       "      <td>OVC</td>\n",
       "      <td>NaN</td>\n",
       "      <td>NaN</td>\n",
       "      <td>...</td>\n",
       "      <td>1011.0</td>\n",
       "      <td>NaN</td>\n",
       "      <td>NaN</td>\n",
       "      <td>NaN</td>\n",
       "      <td>NaN</td>\n",
       "      <td>NaN</td>\n",
       "      <td>NaN</td>\n",
       "      <td>NaN</td>\n",
       "      <td>NaN</td>\n",
       "      <td>NaN</td>\n",
       "    </tr>\n",
       "    <tr>\n",
       "      <th>1</th>\n",
       "      <td>29440</td>\n",
       "      <td>99999</td>\n",
       "      <td>190601011300</td>\n",
       "      <td>NaN</td>\n",
       "      <td>0.0</td>\n",
       "      <td>NaN</td>\n",
       "      <td>NaN</td>\n",
       "      <td>OVC</td>\n",
       "      <td>NaN</td>\n",
       "      <td>NaN</td>\n",
       "      <td>...</td>\n",
       "      <td>1015.5</td>\n",
       "      <td>NaN</td>\n",
       "      <td>NaN</td>\n",
       "      <td>NaN</td>\n",
       "      <td>NaN</td>\n",
       "      <td>NaN</td>\n",
       "      <td>NaN</td>\n",
       "      <td>NaN</td>\n",
       "      <td>NaN</td>\n",
       "      <td>NaN</td>\n",
       "    </tr>\n",
       "    <tr>\n",
       "      <th>2</th>\n",
       "      <td>29440</td>\n",
       "      <td>99999</td>\n",
       "      <td>190601012000</td>\n",
       "      <td>NaN</td>\n",
       "      <td>0.0</td>\n",
       "      <td>NaN</td>\n",
       "      <td>NaN</td>\n",
       "      <td>OVC</td>\n",
       "      <td>NaN</td>\n",
       "      <td>NaN</td>\n",
       "      <td>...</td>\n",
       "      <td>1016.2</td>\n",
       "      <td>NaN</td>\n",
       "      <td>NaN</td>\n",
       "      <td>NaN</td>\n",
       "      <td>NaN</td>\n",
       "      <td>NaN</td>\n",
       "      <td>NaN</td>\n",
       "      <td>NaN</td>\n",
       "      <td>NaN</td>\n",
       "      <td>NaN</td>\n",
       "    </tr>\n",
       "    <tr>\n",
       "      <th>3</th>\n",
       "      <td>29440</td>\n",
       "      <td>99999</td>\n",
       "      <td>190601020600</td>\n",
       "      <td>NaN</td>\n",
       "      <td>0.0</td>\n",
       "      <td>NaN</td>\n",
       "      <td>NaN</td>\n",
       "      <td>CLR</td>\n",
       "      <td>NaN</td>\n",
       "      <td>NaN</td>\n",
       "      <td>...</td>\n",
       "      <td>1016.2</td>\n",
       "      <td>NaN</td>\n",
       "      <td>NaN</td>\n",
       "      <td>NaN</td>\n",
       "      <td>NaN</td>\n",
       "      <td>NaN</td>\n",
       "      <td>NaN</td>\n",
       "      <td>NaN</td>\n",
       "      <td>NaN</td>\n",
       "      <td>NaN</td>\n",
       "    </tr>\n",
       "    <tr>\n",
       "      <th>4</th>\n",
       "      <td>29440</td>\n",
       "      <td>99999</td>\n",
       "      <td>190601021300</td>\n",
       "      <td>270.0</td>\n",
       "      <td>7.0</td>\n",
       "      <td>NaN</td>\n",
       "      <td>NaN</td>\n",
       "      <td>OVC</td>\n",
       "      <td>NaN</td>\n",
       "      <td>NaN</td>\n",
       "      <td>...</td>\n",
       "      <td>1015.6</td>\n",
       "      <td>NaN</td>\n",
       "      <td>NaN</td>\n",
       "      <td>NaN</td>\n",
       "      <td>NaN</td>\n",
       "      <td>NaN</td>\n",
       "      <td>NaN</td>\n",
       "      <td>NaN</td>\n",
       "      <td>NaN</td>\n",
       "      <td>NaN</td>\n",
       "    </tr>\n",
       "  </tbody>\n",
       "</table>\n",
       "<p>5 rows × 33 columns</p>\n",
       "</div>"
      ],
      "text/plain": [
       "    USAF   WBAN  YR--MODAHRMN    DIR  SPD  GUS  CLG  SKC   L   M  ...     SLP  \\\n",
       "0  29440  99999  190601010600   90.0  7.0  NaN  NaN  OVC NaN NaN  ...  1011.0   \n",
       "1  29440  99999  190601011300    NaN  0.0  NaN  NaN  OVC NaN NaN  ...  1015.5   \n",
       "2  29440  99999  190601012000    NaN  0.0  NaN  NaN  OVC NaN NaN  ...  1016.2   \n",
       "3  29440  99999  190601020600    NaN  0.0  NaN  NaN  CLR NaN NaN  ...  1016.2   \n",
       "4  29440  99999  190601021300  270.0  7.0  NaN  NaN  OVC NaN NaN  ...  1015.6   \n",
       "\n",
       "   ALT  STP  MAX  MIN  PCP01  PCP06  PCP24  PCPXX  SD  \n",
       "0  NaN  NaN  NaN  NaN    NaN    NaN    NaN    NaN NaN  \n",
       "1  NaN  NaN  NaN  NaN    NaN    NaN    NaN    NaN NaN  \n",
       "2  NaN  NaN  NaN  NaN    NaN    NaN    NaN    NaN NaN  \n",
       "3  NaN  NaN  NaN  NaN    NaN    NaN    NaN    NaN NaN  \n",
       "4  NaN  NaN  NaN  NaN    NaN    NaN    NaN    NaN NaN  \n",
       "\n",
       "[5 rows x 33 columns]"
      ]
     },
     "execution_count": 153,
     "metadata": {},
     "output_type": "execute_result"
    }
   ],
   "source": [
    "data = pd.read_csv(\n",
    "    fp, delim_whitespace=True, na_values=[\"*\", \"**\", \"***\", \"****\", \"*****\", \"******\"]\n",
    ")\n",
    "data.head()"
   ]
  },
  {
   "cell_type": "markdown",
   "id": "55dc24f7-d88e-4221-aba6-8fa0843be669",
   "metadata": {},
   "source": [
    "All column names"
   ]
  },
  {
   "cell_type": "code",
   "execution_count": 155,
   "id": "e72e89d2-e655-4f7c-b4ec-56f178d0a739",
   "metadata": {},
   "outputs": [
    {
     "data": {
      "text/plain": [
       "Index(['USAF', 'WBAN', 'YR--MODAHRMN', 'DIR', 'SPD', 'GUS', 'CLG', 'SKC', 'L',\n",
       "       'M', 'H', 'VSB', 'MW', 'MW.1', 'MW.2', 'MW.3', 'AW', 'AW.1', 'AW.2',\n",
       "       'AW.3', 'W', 'TEMP', 'DEWP', 'SLP', 'ALT', 'STP', 'MAX', 'MIN', 'PCP01',\n",
       "       'PCP06', 'PCP24', 'PCPXX', 'SD'],\n",
       "      dtype='object')"
      ]
     },
     "execution_count": 155,
     "metadata": {},
     "output_type": "execute_result"
    }
   ],
   "source": [
    "data.columns"
   ]
  },
  {
   "cell_type": "markdown",
   "id": "09bfc36e-0706-4fd0-aa64-6f5fff614906",
   "metadata": {},
   "source": []
  },
  {
   "cell_type": "markdown",
   "id": "d1f3989b-33d8-43c4-aada-d3e18e90aac0",
   "metadata": {},
   "source": [
    "Read only selected columns"
   ]
  },
  {
   "cell_type": "code",
   "execution_count": 159,
   "id": "44c90786-6bb4-4da8-a9ce-e4d65dc14a7d",
   "metadata": {},
   "outputs": [
    {
     "data": {
      "text/html": [
       "<div>\n",
       "<style scoped>\n",
       "    .dataframe tbody tr th:only-of-type {\n",
       "        vertical-align: middle;\n",
       "    }\n",
       "\n",
       "    .dataframe tbody tr th {\n",
       "        vertical-align: top;\n",
       "    }\n",
       "\n",
       "    .dataframe thead th {\n",
       "        text-align: right;\n",
       "    }\n",
       "</style>\n",
       "<table border=\"1\" class=\"dataframe\">\n",
       "  <thead>\n",
       "    <tr style=\"text-align: right;\">\n",
       "      <th></th>\n",
       "      <th>USAF</th>\n",
       "      <th>YR--MODAHRMN</th>\n",
       "      <th>TEMP</th>\n",
       "    </tr>\n",
       "  </thead>\n",
       "  <tbody>\n",
       "    <tr>\n",
       "      <th>0</th>\n",
       "      <td>29440</td>\n",
       "      <td>190601010600</td>\n",
       "      <td>27.0</td>\n",
       "    </tr>\n",
       "    <tr>\n",
       "      <th>1</th>\n",
       "      <td>29440</td>\n",
       "      <td>190601011300</td>\n",
       "      <td>27.0</td>\n",
       "    </tr>\n",
       "    <tr>\n",
       "      <th>2</th>\n",
       "      <td>29440</td>\n",
       "      <td>190601012000</td>\n",
       "      <td>25.0</td>\n",
       "    </tr>\n",
       "    <tr>\n",
       "      <th>3</th>\n",
       "      <td>29440</td>\n",
       "      <td>190601020600</td>\n",
       "      <td>26.0</td>\n",
       "    </tr>\n",
       "    <tr>\n",
       "      <th>4</th>\n",
       "      <td>29440</td>\n",
       "      <td>190601021300</td>\n",
       "      <td>27.0</td>\n",
       "    </tr>\n",
       "  </tbody>\n",
       "</table>\n",
       "</div>"
      ],
      "text/plain": [
       "    USAF  YR--MODAHRMN  TEMP\n",
       "0  29440  190601010600  27.0\n",
       "1  29440  190601011300  27.0\n",
       "2  29440  190601012000  25.0\n",
       "3  29440  190601020600  26.0\n",
       "4  29440  190601021300  27.0"
      ]
     },
     "execution_count": 159,
     "metadata": {},
     "output_type": "execute_result"
    }
   ],
   "source": [
    "data = pd.read_csv(\n",
    "    fp,\n",
    "    delim_whitespace=True,\n",
    "    usecols=[\"USAF\", \"YR--MODAHRMN\", \"TEMP\"],\n",
    "    na_values=[\"*\", \"**\", \"***\", \"****\", \"*****\", \"******\"],\n",
    ")\n",
    "data.head()"
   ]
  },
  {
   "cell_type": "markdown",
   "id": "685ea55a-7151-4900-bf29-d89e26332821",
   "metadata": {},
   "source": [
    "Rename columns"
   ]
  },
  {
   "cell_type": "code",
   "execution_count": 344,
   "id": "48ad1e2d-9ee0-4c24-a4c0-c5dd1e1c5ce5",
   "metadata": {},
   "outputs": [
    {
     "data": {
      "text/plain": [
       "Index(['USAF', 'TIME', 'TEMP', 'TEMP_C', 'YEAR', 'MONTH', 'DATE'], dtype='object')"
      ]
     },
     "execution_count": 344,
     "metadata": {},
     "output_type": "execute_result"
    }
   ],
   "source": [
    "new_name={\"YR--MODAHRMN\":\"TIME\"}\n",
    "type(new_names)\n",
    "data=data.rename(columns=new_names)\n",
    "data.columns\n"
   ]
  },
  {
   "cell_type": "markdown",
   "id": "905f84c7-3a1d-44ef-8dd1-8518b031f04e",
   "metadata": {},
   "source": [
    "Check row col count"
   ]
  },
  {
   "cell_type": "code",
   "execution_count": 163,
   "id": "3d7421e8-db7a-49e7-ae11-480df7479ead",
   "metadata": {},
   "outputs": [
    {
     "data": {
      "text/plain": [
       "(757983, 3)"
      ]
     },
     "execution_count": 163,
     "metadata": {},
     "output_type": "execute_result"
    }
   ],
   "source": [
    "data.shape"
   ]
  },
  {
   "cell_type": "markdown",
   "id": "3941fab0-0f96-4aa4-81df-0340a38a31fb",
   "metadata": {},
   "source": [
    "Column data types"
   ]
  },
  {
   "cell_type": "code",
   "execution_count": 165,
   "id": "4e747c28-0e85-40d7-8258-7db799ce1b30",
   "metadata": {},
   "outputs": [
    {
     "data": {
      "text/plain": [
       "USAF      int64\n",
       "TIME      int64\n",
       "TEMP    float64\n",
       "dtype: object"
      ]
     },
     "execution_count": 165,
     "metadata": {},
     "output_type": "execute_result"
    }
   ],
   "source": [
    "data.dtypes"
   ]
  },
  {
   "cell_type": "markdown",
   "id": "96585470-512e-49bb-9bfb-b8b81cd81a91",
   "metadata": {},
   "source": [
    "Add a column and calculate"
   ]
  },
  {
   "cell_type": "code",
   "execution_count": 167,
   "id": "aa694735-f7bb-472f-8668-97ef3f426b54",
   "metadata": {},
   "outputs": [
    {
     "data": {
      "text/html": [
       "<div>\n",
       "<style scoped>\n",
       "    .dataframe tbody tr th:only-of-type {\n",
       "        vertical-align: middle;\n",
       "    }\n",
       "\n",
       "    .dataframe tbody tr th {\n",
       "        vertical-align: top;\n",
       "    }\n",
       "\n",
       "    .dataframe thead th {\n",
       "        text-align: right;\n",
       "    }\n",
       "</style>\n",
       "<table border=\"1\" class=\"dataframe\">\n",
       "  <thead>\n",
       "    <tr style=\"text-align: right;\">\n",
       "      <th></th>\n",
       "      <th>USAF</th>\n",
       "      <th>TIME</th>\n",
       "      <th>TEMP</th>\n",
       "      <th>TEMP_C</th>\n",
       "    </tr>\n",
       "  </thead>\n",
       "  <tbody>\n",
       "    <tr>\n",
       "      <th>0</th>\n",
       "      <td>29440</td>\n",
       "      <td>190601010600</td>\n",
       "      <td>27.0</td>\n",
       "      <td>-2.777778</td>\n",
       "    </tr>\n",
       "    <tr>\n",
       "      <th>1</th>\n",
       "      <td>29440</td>\n",
       "      <td>190601011300</td>\n",
       "      <td>27.0</td>\n",
       "      <td>-2.777778</td>\n",
       "    </tr>\n",
       "    <tr>\n",
       "      <th>2</th>\n",
       "      <td>29440</td>\n",
       "      <td>190601012000</td>\n",
       "      <td>25.0</td>\n",
       "      <td>-3.888889</td>\n",
       "    </tr>\n",
       "    <tr>\n",
       "      <th>3</th>\n",
       "      <td>29440</td>\n",
       "      <td>190601020600</td>\n",
       "      <td>26.0</td>\n",
       "      <td>-3.333333</td>\n",
       "    </tr>\n",
       "    <tr>\n",
       "      <th>4</th>\n",
       "      <td>29440</td>\n",
       "      <td>190601021300</td>\n",
       "      <td>27.0</td>\n",
       "      <td>-2.777778</td>\n",
       "    </tr>\n",
       "  </tbody>\n",
       "</table>\n",
       "</div>"
      ],
      "text/plain": [
       "    USAF          TIME  TEMP    TEMP_C\n",
       "0  29440  190601010600  27.0 -2.777778\n",
       "1  29440  190601011300  27.0 -2.777778\n",
       "2  29440  190601012000  25.0 -3.888889\n",
       "3  29440  190601020600  26.0 -3.333333\n",
       "4  29440  190601021300  27.0 -2.777778"
      ]
     },
     "execution_count": 167,
     "metadata": {},
     "output_type": "execute_result"
    }
   ],
   "source": [
    "data[\"TEMP_C\"]=(data[\"TEMP\"]-32)/1.8\n",
    "data.head()"
   ]
  },
  {
   "cell_type": "markdown",
   "id": "7c372213-477a-4c68-9210-7da69e534aaa",
   "metadata": {},
   "source": [
    "Parsing time column into year-month-day-hour-minute"
   ]
  },
  {
   "cell_type": "code",
   "execution_count": 170,
   "id": "750b94be-afff-43d0-9b10-f9ba5c818312",
   "metadata": {},
   "outputs": [],
   "source": [
    "data[\"TIME\"]=data[\"TIME\"].astype(str)"
   ]
  },
  {
   "cell_type": "code",
   "execution_count": 220,
   "id": "d911bb11-a759-4782-9f34-883b8cafdf51",
   "metadata": {},
   "outputs": [
    {
     "data": {
      "text/html": [
       "<div>\n",
       "<style scoped>\n",
       "    .dataframe tbody tr th:only-of-type {\n",
       "        vertical-align: middle;\n",
       "    }\n",
       "\n",
       "    .dataframe tbody tr th {\n",
       "        vertical-align: top;\n",
       "    }\n",
       "\n",
       "    .dataframe thead th {\n",
       "        text-align: right;\n",
       "    }\n",
       "</style>\n",
       "<table border=\"1\" class=\"dataframe\">\n",
       "  <thead>\n",
       "    <tr style=\"text-align: right;\">\n",
       "      <th></th>\n",
       "      <th>USAF</th>\n",
       "      <th>TIME</th>\n",
       "      <th>TEMP</th>\n",
       "      <th>TEMP_C</th>\n",
       "      <th>YEAR</th>\n",
       "      <th>MONTH</th>\n",
       "    </tr>\n",
       "  </thead>\n",
       "  <tbody>\n",
       "    <tr>\n",
       "      <th>0</th>\n",
       "      <td>29440</td>\n",
       "      <td>190601010600</td>\n",
       "      <td>27.0</td>\n",
       "      <td>-2.777778</td>\n",
       "      <td>19</td>\n",
       "      <td>06</td>\n",
       "    </tr>\n",
       "    <tr>\n",
       "      <th>1</th>\n",
       "      <td>29440</td>\n",
       "      <td>190601011300</td>\n",
       "      <td>27.0</td>\n",
       "      <td>-2.777778</td>\n",
       "      <td>19</td>\n",
       "      <td>06</td>\n",
       "    </tr>\n",
       "    <tr>\n",
       "      <th>2</th>\n",
       "      <td>29440</td>\n",
       "      <td>190601012000</td>\n",
       "      <td>25.0</td>\n",
       "      <td>-3.888889</td>\n",
       "      <td>19</td>\n",
       "      <td>06</td>\n",
       "    </tr>\n",
       "    <tr>\n",
       "      <th>3</th>\n",
       "      <td>29440</td>\n",
       "      <td>190601020600</td>\n",
       "      <td>26.0</td>\n",
       "      <td>-3.333333</td>\n",
       "      <td>19</td>\n",
       "      <td>06</td>\n",
       "    </tr>\n",
       "    <tr>\n",
       "      <th>4</th>\n",
       "      <td>29440</td>\n",
       "      <td>190601021300</td>\n",
       "      <td>27.0</td>\n",
       "      <td>-2.777778</td>\n",
       "      <td>19</td>\n",
       "      <td>06</td>\n",
       "    </tr>\n",
       "  </tbody>\n",
       "</table>\n",
       "</div>"
      ],
      "text/plain": [
       "    USAF          TIME  TEMP    TEMP_C YEAR MONTH\n",
       "0  29440  190601010600  27.0 -2.777778   19    06\n",
       "1  29440  190601011300  27.0 -2.777778   19    06\n",
       "2  29440  190601012000  25.0 -3.888889   19    06\n",
       "3  29440  190601020600  26.0 -3.333333   19    06\n",
       "4  29440  190601021300  27.0 -2.777778   19    06"
      ]
     },
     "execution_count": 220,
     "metadata": {},
     "output_type": "execute_result"
    }
   ],
   "source": [
    "data[\"YEAR\"]= data[\"TIME\"].str.slice(start=0,stop=2)\n",
    "data[\"MONTH\"]=data[\"TIME\"].str.slice(start=2,stop=4)\n",
    "\n",
    "data.head()"
   ]
  },
  {
   "cell_type": "markdown",
   "id": "93e2b63c-854f-4edb-a2ad-3814a37dacab",
   "metadata": {},
   "source": [
    "Parse using datetime"
   ]
  },
  {
   "cell_type": "code",
   "execution_count": 222,
   "id": "a17ccf37-de0e-4b4d-b3eb-e1a4ea2e58e9",
   "metadata": {},
   "outputs": [
    {
     "data": {
      "text/html": [
       "<div>\n",
       "<style scoped>\n",
       "    .dataframe tbody tr th:only-of-type {\n",
       "        vertical-align: middle;\n",
       "    }\n",
       "\n",
       "    .dataframe tbody tr th {\n",
       "        vertical-align: top;\n",
       "    }\n",
       "\n",
       "    .dataframe thead th {\n",
       "        text-align: right;\n",
       "    }\n",
       "</style>\n",
       "<table border=\"1\" class=\"dataframe\">\n",
       "  <thead>\n",
       "    <tr style=\"text-align: right;\">\n",
       "      <th></th>\n",
       "      <th>USAF</th>\n",
       "      <th>TIME</th>\n",
       "      <th>TEMP</th>\n",
       "      <th>TEMP_C</th>\n",
       "      <th>YEAR</th>\n",
       "      <th>MONTH</th>\n",
       "      <th>DATE</th>\n",
       "    </tr>\n",
       "  </thead>\n",
       "  <tbody>\n",
       "    <tr>\n",
       "      <th>0</th>\n",
       "      <td>29440</td>\n",
       "      <td>190601010600</td>\n",
       "      <td>27.0</td>\n",
       "      <td>-2.777778</td>\n",
       "      <td>19</td>\n",
       "      <td>06</td>\n",
       "      <td>1906-01-01 06:00:00</td>\n",
       "    </tr>\n",
       "    <tr>\n",
       "      <th>1</th>\n",
       "      <td>29440</td>\n",
       "      <td>190601011300</td>\n",
       "      <td>27.0</td>\n",
       "      <td>-2.777778</td>\n",
       "      <td>19</td>\n",
       "      <td>06</td>\n",
       "      <td>1906-01-01 13:00:00</td>\n",
       "    </tr>\n",
       "    <tr>\n",
       "      <th>2</th>\n",
       "      <td>29440</td>\n",
       "      <td>190601012000</td>\n",
       "      <td>25.0</td>\n",
       "      <td>-3.888889</td>\n",
       "      <td>19</td>\n",
       "      <td>06</td>\n",
       "      <td>1906-01-01 20:00:00</td>\n",
       "    </tr>\n",
       "    <tr>\n",
       "      <th>3</th>\n",
       "      <td>29440</td>\n",
       "      <td>190601020600</td>\n",
       "      <td>26.0</td>\n",
       "      <td>-3.333333</td>\n",
       "      <td>19</td>\n",
       "      <td>06</td>\n",
       "      <td>1906-01-02 06:00:00</td>\n",
       "    </tr>\n",
       "    <tr>\n",
       "      <th>4</th>\n",
       "      <td>29440</td>\n",
       "      <td>190601021300</td>\n",
       "      <td>27.0</td>\n",
       "      <td>-2.777778</td>\n",
       "      <td>19</td>\n",
       "      <td>06</td>\n",
       "      <td>1906-01-02 13:00:00</td>\n",
       "    </tr>\n",
       "  </tbody>\n",
       "</table>\n",
       "</div>"
      ],
      "text/plain": [
       "    USAF          TIME  TEMP    TEMP_C YEAR MONTH                DATE\n",
       "0  29440  190601010600  27.0 -2.777778   19    06 1906-01-01 06:00:00\n",
       "1  29440  190601011300  27.0 -2.777778   19    06 1906-01-01 13:00:00\n",
       "2  29440  190601012000  25.0 -3.888889   19    06 1906-01-01 20:00:00\n",
       "3  29440  190601020600  26.0 -3.333333   19    06 1906-01-02 06:00:00\n",
       "4  29440  190601021300  27.0 -2.777778   19    06 1906-01-02 13:00:00"
      ]
     },
     "execution_count": 222,
     "metadata": {},
     "output_type": "execute_result"
    }
   ],
   "source": [
    "data[\"DATE\"]=pd.to_datetime(data[\"TIME\"])\n",
    "data.head()"
   ]
  },
  {
   "cell_type": "markdown",
   "id": "e5f562bf-3fda-4b7a-9c5a-326b961cfea5",
   "metadata": {},
   "source": [
    "Group data"
   ]
  },
  {
   "cell_type": "code",
   "execution_count": 226,
   "id": "24f16d09-b795-4473-9d92-95f323f3ecf0",
   "metadata": {},
   "outputs": [
    {
     "data": {
      "text/html": [
       "<div>\n",
       "<style scoped>\n",
       "    .dataframe tbody tr th:only-of-type {\n",
       "        vertical-align: middle;\n",
       "    }\n",
       "\n",
       "    .dataframe tbody tr th {\n",
       "        vertical-align: top;\n",
       "    }\n",
       "\n",
       "    .dataframe thead th {\n",
       "        text-align: right;\n",
       "    }\n",
       "</style>\n",
       "<table border=\"1\" class=\"dataframe\">\n",
       "  <thead>\n",
       "    <tr style=\"text-align: right;\">\n",
       "      <th></th>\n",
       "      <th>USAF</th>\n",
       "      <th>TIME</th>\n",
       "      <th>TEMP</th>\n",
       "      <th>TEMP_C</th>\n",
       "      <th>YEAR</th>\n",
       "      <th>MONTH</th>\n",
       "      <th>DATE</th>\n",
       "    </tr>\n",
       "  </thead>\n",
       "  <tbody>\n",
       "    <tr>\n",
       "      <th>0</th>\n",
       "      <td>29440</td>\n",
       "      <td>190601010600</td>\n",
       "      <td>27.0</td>\n",
       "      <td>-2.777778</td>\n",
       "      <td>19</td>\n",
       "      <td>06</td>\n",
       "      <td>1906-01-01 06:00:00</td>\n",
       "    </tr>\n",
       "    <tr>\n",
       "      <th>1</th>\n",
       "      <td>29440</td>\n",
       "      <td>190601011300</td>\n",
       "      <td>27.0</td>\n",
       "      <td>-2.777778</td>\n",
       "      <td>19</td>\n",
       "      <td>06</td>\n",
       "      <td>1906-01-01 13:00:00</td>\n",
       "    </tr>\n",
       "    <tr>\n",
       "      <th>2</th>\n",
       "      <td>29440</td>\n",
       "      <td>190601012000</td>\n",
       "      <td>25.0</td>\n",
       "      <td>-3.888889</td>\n",
       "      <td>19</td>\n",
       "      <td>06</td>\n",
       "      <td>1906-01-01 20:00:00</td>\n",
       "    </tr>\n",
       "    <tr>\n",
       "      <th>3</th>\n",
       "      <td>29440</td>\n",
       "      <td>190601020600</td>\n",
       "      <td>26.0</td>\n",
       "      <td>-3.333333</td>\n",
       "      <td>19</td>\n",
       "      <td>06</td>\n",
       "      <td>1906-01-02 06:00:00</td>\n",
       "    </tr>\n",
       "    <tr>\n",
       "      <th>4</th>\n",
       "      <td>29440</td>\n",
       "      <td>190601021300</td>\n",
       "      <td>27.0</td>\n",
       "      <td>-2.777778</td>\n",
       "      <td>19</td>\n",
       "      <td>06</td>\n",
       "      <td>1906-01-02 13:00:00</td>\n",
       "    </tr>\n",
       "  </tbody>\n",
       "</table>\n",
       "</div>"
      ],
      "text/plain": [
       "    USAF          TIME  TEMP    TEMP_C YEAR MONTH                DATE\n",
       "0  29440  190601010600  27.0 -2.777778   19    06 1906-01-01 06:00:00\n",
       "1  29440  190601011300  27.0 -2.777778   19    06 1906-01-01 13:00:00\n",
       "2  29440  190601012000  25.0 -3.888889   19    06 1906-01-01 20:00:00\n",
       "3  29440  190601020600  26.0 -3.333333   19    06 1906-01-02 06:00:00\n",
       "4  29440  190601021300  27.0 -2.777778   19    06 1906-01-02 13:00:00"
      ]
     },
     "execution_count": 226,
     "metadata": {},
     "output_type": "execute_result"
    }
   ],
   "source": [
    "grouped=data.groupby(['YEAR','MONTH'])\n",
    "data.head()"
   ]
  },
  {
   "cell_type": "markdown",
   "id": "c53d9b4b-8ea3-4af8-a113-55511aae8399",
   "metadata": {},
   "source": [
    "Access data by groups"
   ]
  },
  {
   "cell_type": "code",
   "execution_count": 234,
   "id": "0d2235d3-77aa-46cb-a369-a1fb767032be",
   "metadata": {},
   "outputs": [
    {
     "data": {
      "text/plain": [
       "pandas.core.groupby.generic.DataFrameGroupBy"
      ]
     },
     "execution_count": 234,
     "metadata": {},
     "output_type": "execute_result"
    }
   ],
   "source": [
    "type(grouped)"
   ]
  },
  {
   "cell_type": "code",
   "execution_count": 266,
   "id": "7e83a4ed-b5c9-4323-b4dc-8573f2943162",
   "metadata": {},
   "outputs": [
    {
     "data": {
      "text/html": [
       "<div>\n",
       "<style scoped>\n",
       "    .dataframe tbody tr th:only-of-type {\n",
       "        vertical-align: middle;\n",
       "    }\n",
       "\n",
       "    .dataframe tbody tr th {\n",
       "        vertical-align: top;\n",
       "    }\n",
       "\n",
       "    .dataframe thead th {\n",
       "        text-align: right;\n",
       "    }\n",
       "</style>\n",
       "<table border=\"1\" class=\"dataframe\">\n",
       "  <thead>\n",
       "    <tr style=\"text-align: right;\">\n",
       "      <th></th>\n",
       "      <th>USAF</th>\n",
       "      <th>TIME</th>\n",
       "      <th>TEMP</th>\n",
       "      <th>TEMP_C</th>\n",
       "      <th>YEAR</th>\n",
       "      <th>MONTH</th>\n",
       "      <th>DATE</th>\n",
       "    </tr>\n",
       "  </thead>\n",
       "  <tbody>\n",
       "    <tr>\n",
       "      <th>2188</th>\n",
       "      <td>29440</td>\n",
       "      <td>190801010600</td>\n",
       "      <td>-16.0</td>\n",
       "      <td>-26.666667</td>\n",
       "      <td>19</td>\n",
       "      <td>08</td>\n",
       "      <td>1908-01-01 06:00:00</td>\n",
       "    </tr>\n",
       "    <tr>\n",
       "      <th>2189</th>\n",
       "      <td>29440</td>\n",
       "      <td>190801011300</td>\n",
       "      <td>-11.0</td>\n",
       "      <td>-23.888889</td>\n",
       "      <td>19</td>\n",
       "      <td>08</td>\n",
       "      <td>1908-01-01 13:00:00</td>\n",
       "    </tr>\n",
       "    <tr>\n",
       "      <th>2190</th>\n",
       "      <td>29440</td>\n",
       "      <td>190801012000</td>\n",
       "      <td>2.0</td>\n",
       "      <td>-16.666667</td>\n",
       "      <td>19</td>\n",
       "      <td>08</td>\n",
       "      <td>1908-01-01 20:00:00</td>\n",
       "    </tr>\n",
       "    <tr>\n",
       "      <th>2191</th>\n",
       "      <td>29440</td>\n",
       "      <td>190801020600</td>\n",
       "      <td>14.0</td>\n",
       "      <td>-10.000000</td>\n",
       "      <td>19</td>\n",
       "      <td>08</td>\n",
       "      <td>1908-01-02 06:00:00</td>\n",
       "    </tr>\n",
       "    <tr>\n",
       "      <th>2192</th>\n",
       "      <td>29440</td>\n",
       "      <td>190801021300</td>\n",
       "      <td>19.0</td>\n",
       "      <td>-7.222222</td>\n",
       "      <td>19</td>\n",
       "      <td>08</td>\n",
       "      <td>1908-01-02 13:00:00</td>\n",
       "    </tr>\n",
       "  </tbody>\n",
       "</table>\n",
       "</div>"
      ],
      "text/plain": [
       "       USAF          TIME  TEMP     TEMP_C YEAR MONTH                DATE\n",
       "2188  29440  190801010600 -16.0 -26.666667   19    08 1908-01-01 06:00:00\n",
       "2189  29440  190801011300 -11.0 -23.888889   19    08 1908-01-01 13:00:00\n",
       "2190  29440  190801012000   2.0 -16.666667   19    08 1908-01-01 20:00:00\n",
       "2191  29440  190801020600  14.0 -10.000000   19    08 1908-01-02 06:00:00\n",
       "2192  29440  190801021300  19.0  -7.222222   19    08 1908-01-02 13:00:00"
      ]
     },
     "execution_count": 266,
     "metadata": {},
     "output_type": "execute_result"
    }
   ],
   "source": [
    "month=('19', '08')\n",
    "grouped.get_group(month).head()"
   ]
  },
  {
   "cell_type": "code",
   "execution_count": 274,
   "id": "8e4169c6-a5b3-4876-a942-40250dfe75cd",
   "metadata": {},
   "outputs": [
    {
     "data": {
      "text/plain": [
       "39.61861313868613"
      ]
     },
     "execution_count": 274,
     "metadata": {},
     "output_type": "execute_result"
    }
   ],
   "source": [
    "group1[\"TEMP\"].mean()"
   ]
  },
  {
   "cell_type": "markdown",
   "id": "f78041dc-e02d-45b4-b3f2-b41e0d7a7456",
   "metadata": {},
   "source": [
    "Create a new dataframe with mean values from each group"
   ]
  },
  {
   "cell_type": "code",
   "execution_count": 309,
   "id": "b8aa4f30-4ccd-4afa-a54a-a12c391f43f2",
   "metadata": {},
   "outputs": [],
   "source": [
    "temp=pd.DataFrame()"
   ]
  },
  {
   "cell_type": "code",
   "execution_count": 342,
   "id": "21925af2-9407-4be3-b957-0deed134455f",
   "metadata": {},
   "outputs": [
    {
     "data": {
      "text/html": [
       "<div>\n",
       "<style scoped>\n",
       "    .dataframe tbody tr th:only-of-type {\n",
       "        vertical-align: middle;\n",
       "    }\n",
       "\n",
       "    .dataframe tbody tr th {\n",
       "        vertical-align: top;\n",
       "    }\n",
       "\n",
       "    .dataframe thead th {\n",
       "        text-align: right;\n",
       "    }\n",
       "</style>\n",
       "<table border=\"1\" class=\"dataframe\">\n",
       "  <thead>\n",
       "    <tr style=\"text-align: right;\">\n",
       "      <th></th>\n",
       "      <th></th>\n",
       "      <th>MEAN_TEMP</th>\n",
       "      <th>YY</th>\n",
       "      <th>MM</th>\n",
       "    </tr>\n",
       "    <tr>\n",
       "      <th>YEAR</th>\n",
       "      <th>MONTH</th>\n",
       "      <th></th>\n",
       "      <th></th>\n",
       "      <th></th>\n",
       "    </tr>\n",
       "  </thead>\n",
       "  <tbody>\n",
       "    <tr>\n",
       "      <th rowspan=\"5\" valign=\"top\">19</th>\n",
       "      <th>06</th>\n",
       "      <td>41.468493</td>\n",
       "      <td>19</td>\n",
       "      <td>06</td>\n",
       "    </tr>\n",
       "    <tr>\n",
       "      <th>07</th>\n",
       "      <td>38.526075</td>\n",
       "      <td>19</td>\n",
       "      <td>07</td>\n",
       "    </tr>\n",
       "    <tr>\n",
       "      <th>08</th>\n",
       "      <td>39.618613</td>\n",
       "      <td>19</td>\n",
       "      <td>08</td>\n",
       "    </tr>\n",
       "    <tr>\n",
       "      <th>09</th>\n",
       "      <td>39.307130</td>\n",
       "      <td>19</td>\n",
       "      <td>09</td>\n",
       "    </tr>\n",
       "    <tr>\n",
       "      <th>10</th>\n",
       "      <td>41.589580</td>\n",
       "      <td>19</td>\n",
       "      <td>10</td>\n",
       "    </tr>\n",
       "  </tbody>\n",
       "</table>\n",
       "</div>"
      ],
      "text/plain": [
       "            MEAN_TEMP  YY  MM\n",
       "YEAR MONTH                   \n",
       "19   06     41.468493  19  06\n",
       "     07     38.526075  19  07\n",
       "     08     39.618613  19  08\n",
       "     09     39.307130  19  09\n",
       "     10     41.589580  19  10"
      ]
     },
     "execution_count": 342,
     "metadata": {},
     "output_type": "execute_result"
    }
   ],
   "source": [
    "temp[\"MEAN_TEMP\"]=grouped[\"TEMP\"].mean()\n",
    "temp[\"YY\"]=grouped[\"YEAR\"].first()\n",
    "temp[\"MM\"]=grouped[\"MONTH\"].first()\n",
    "temp.head()"
   ]
  },
  {
   "cell_type": "code",
   "execution_count": null,
   "id": "2ff82105-2669-4c06-89de-c09a1819a481",
   "metadata": {},
   "outputs": [],
   "source": []
  }
 ],
 "metadata": {
  "kernelspec": {
   "display_name": "anaconda-panel-2023.05-py310",
   "language": "python",
   "name": "conda-env-anaconda-panel-2023.05-py310-py"
  },
  "language_info": {
   "codemirror_mode": {
    "name": "ipython",
    "version": 3
   },
   "file_extension": ".py",
   "mimetype": "text/x-python",
   "name": "python",
   "nbconvert_exporter": "python",
   "pygments_lexer": "ipython3",
   "version": "3.11.5"
  }
 },
 "nbformat": 4,
 "nbformat_minor": 5
}
