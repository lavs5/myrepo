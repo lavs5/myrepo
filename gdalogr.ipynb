{
 "cells": [
  {
   "cell_type": "markdown",
   "id": "f1e2b2fe-3ee9-493c-b38e-ee03b5e3ac90",
   "metadata": {},
   "source": [
    "GDAL Geospatial Data Abstraction Library"
   ]
  },
  {
   "cell_type": "markdown",
   "id": "9c55d428-98c9-42ac-9f51-50b642277337",
   "metadata": {},
   "source": [
    "- GDAL is an open-source library for raster and vector geospatial data formats. \n",
    "- The library comes with a vast collection of utility programs that can perform many geoprocessing tasks.\n",
    "- \"GDAL\" was used to refer to the raster-related half of the library, while \"OGR\" referred to the vector part. \n",
    "- Numpy: One advanced feature of the GDAL Python bindings not found in the other language bindings is integration with the Python numerical array facilities."
   ]
  },
  {
   "cell_type": "markdown",
   "id": "c0e7ed54-252a-4a51-8805-d72d1923540a",
   "metadata": {},
   "source": [
    "GDAL\n",
    "- Explore your image data with gdalinfo\n",
    "- Format translations with gdal_translate\n",
    "- Reproject your data with gdalwarp\n",
    "- Mosaic your data with gdal_warp or gdal_merge.py\n",
    "- Build a shapefile as a raster tileindex with gdaltindex"
   ]
  },
  {
   "cell_type": "markdown",
   "id": "ad11542d-f688-491f-a699-51f62a40c267",
   "metadata": {},
   "source": [
    "OGR\n",
    "- Get information about your data with ogrinfo\n",
    "- Use ogr2ogr to transform your data to other formats"
   ]
  },
  {
   "cell_type": "markdown",
   "id": "ae689215-0f94-4b55-bf46-c0d6a06b4d82",
   "metadata": {},
   "source": [
    "Getting started:"
   ]
  },
  {
   "cell_type": "markdown",
   "id": "11752751-630e-477f-b0ff-4a29ddf1242b",
   "metadata": {},
   "source": [
    "Start > All Programs > QGIS > OSGeo4W Shell or OSGeo4W"
   ]
  },
  {
   "cell_type": "markdown",
   "id": "b494c217-63d8-4214-8116-bfb7b14c101d",
   "metadata": {},
   "source": [
    "Commonly-used commands"
   ]
  },
  {
   "cell_type": "markdown",
   "id": "260a61d4-a8d9-4799-ac87-19cd1a1a381a",
   "metadata": {},
   "source": [
    "- ogrinfo: Get information about a vector dataset\n",
    "- gdalinfo: Get information about a raster dataset\n",
    "- ogr2ogr: Convert vector data between file formats\n",
    "- gdal_translate: Convert raster data between file formats"
   ]
  },
  {
   "cell_type": "markdown",
   "id": "39864d4b-306f-4d6d-b55a-74c1a46861f5",
   "metadata": {},
   "source": [
    "- The -outsize switch can be used to set the size of the output file."
   ]
  },
  {
   "cell_type": "markdown",
   "id": "ed80eb00-54f0-4443-a89e-c7598c1b3b24",
   "metadata": {},
   "source": [
    "gdal_translate -outsize 50% 50% HYP_50M_SR_W.tif  HYP_50M_SR_W_small.tif"
   ]
  },
  {
   "cell_type": "markdown",
   "id": "f8dfa15b-572e-47cb-8fc8-daf9c7b5b5e1",
   "metadata": {},
   "source": [
    "- The -scale switch can be used to rescale data. Explicit control of the input and output ranges is also available. \n",
    "- The gdalinfo -mm switch can be used to see pixel min/max values."
   ]
  },
  {
   "cell_type": "markdown",
   "id": "b5d832bc-79bd-414b-8a98-dfa93523137c",
   "metadata": {},
   "source": [
    "- Let’s split our image into two with -srcwin which makes a copy based on pixel/line location (xoff yoff xsize ysize). You also could use -projwin and define the corners in georeferenced coordinates (ulx uly lrx lry)."
   ]
  },
  {
   "cell_type": "markdown",
   "id": "8705698d-c9a1-4b34-b8e4-5e884edf02e1",
   "metadata": {},
   "source": [
    "gdalinfo -mm HYP_50M_SR_W.tif"
   ]
  },
  {
   "cell_type": "markdown",
   "id": "dfaa33d0-e3b9-4cf6-ac35-7b4b07d3a86c",
   "metadata": {},
   "source": [
    "gdal_translate -srcwin 0 0 5400 5400 HYP_50M_SR_W.tif  west.tif"
   ]
  },
  {
   "cell_type": "markdown",
   "id": "46f9f13c-7055-45ef-b206-928c74ee5fdb",
   "metadata": {},
   "source": [
    "gdal_translate -srcwin 5400 0 5400 5400 HYP_50M_SR_W.tif  east.tif"
   ]
  },
  {
   "cell_type": "markdown",
   "id": "6993310f-679d-4a84-9258-7b53baa91418",
   "metadata": {},
   "source": [
    "- Assign WGS84 as coordinate system to the image in the first step."
   ]
  },
  {
   "cell_type": "markdown",
   "id": "4a072449-f8c4-4896-8d85-be86f6f7f82c",
   "metadata": {},
   "source": [
    "gdal_translate -a_srs WGS84 HYP_50M_SR_W.tif HYP_50M_SR_W_4326.tif"
   ]
  },
  {
   "cell_type": "markdown",
   "id": "83d5a13a-6f0d-4742-a131-6903b6d84776",
   "metadata": {},
   "source": [
    "- The gdalwarp command can be used to reproject images. Here we reproject the WGS84 geographic image to the Mercator projection:"
   ]
  },
  {
   "cell_type": "markdown",
   "id": "4460764c-9d69-41ec-a407-70ea259c0d06",
   "metadata": {},
   "source": [
    "gdalwarp -t_srs '+proj=merc +datum=WGS84' HYP_50M_SR_W_4326.tif mercator.tif"
   ]
  },
  {
   "cell_type": "markdown",
   "id": "29c87fa1-9d79-4425-baae-6b88417eea79",
   "metadata": {},
   "source": [
    "- Here we reproject to the Ortho projection."
   ]
  },
  {
   "cell_type": "markdown",
   "id": "fc7aaff6-0e67-4e78-9bd4-61cd0d99f222",
   "metadata": {},
   "source": [
    "gdalwarp -t_srs '+proj=ortho +datum=WGS84' HYP_50M_SR_W_4326.tif ortho.tif"
   ]
  },
  {
   "cell_type": "markdown",
   "id": "87cf2e5a-5bc4-4141-bae7-b46665190fa0",
   "metadata": {},
   "source": [
    "- gdal_merge.py is a python script that can be used for simple mosaicking tasks. Mosaic the east.tif and west.tif into a single file:"
   ]
  },
  {
   "cell_type": "markdown",
   "id": "5149284f-4ded-476e-ab9a-43ca7e289f63",
   "metadata": {},
   "source": [
    "gdal_merge.py  east.tif west.tif -o merged.tif"
   ]
  },
  {
   "cell_type": "markdown",
   "id": "8ee3affa-15bf-4899-8652-db2a56f973f4",
   "metadata": {},
   "source": [
    "- The same task can be accomplished with gdalwarp. gdalwarp has a variety of advantages over gdal_merge, but can be slow to merge many files:"
   ]
  },
  {
   "cell_type": "markdown",
   "id": "3dc5535d-e9b5-4bcd-af43-766383862046",
   "metadata": {},
   "source": [
    "gdalwarp east.tif west.tif warpmerged.tif"
   ]
  },
  {
   "cell_type": "markdown",
   "id": "ba03df4f-b158-4283-820f-7fe51cb5eccf",
   "metadata": {},
   "source": [
    "- You can use ogr2ogr to converts simple features data between file formats. You can use –formats to get the list of the supported formats with read/write information.Convert the countries to GML:"
   ]
  },
  {
   "cell_type": "markdown",
   "id": "d3cbd42b-22ad-4910-a004-3b1649cf271d",
   "metadata": {},
   "source": [
    "ogr2ogr --formats"
   ]
  },
  {
   "cell_type": "markdown",
   "id": "0d2808e3-105d-44a6-b5dc-a348b653ed8e",
   "metadata": {},
   "source": [
    "ogr2ogr -f GML countries.xml ne_10m_admin_0_countries.shp"
   ]
  },
  {
   "cell_type": "markdown",
   "id": "bf2809ce-ee4a-4058-b17a-823c2977e1a3",
   "metadata": {},
   "source": [
    "- Geoprocessing example:"
   ]
  },
  {
   "cell_type": "markdown",
   "id": "9b7530c5-0bdc-41db-a895-bfdd10b9d500",
   "metadata": {},
   "source": [
    "- Clip:"
   ]
  },
  {
   "cell_type": "markdown",
   "id": "deec6c13-2be3-4066-94b9-759f98c60397",
   "metadata": {},
   "source": [
    "ogr2ogr -skipfailures -clipsrc "
   ]
  },
  {
   "cell_type": "markdown",
   "id": "d6142d8a-00fe-41e9-be97-b451fb68413e",
   "metadata": {},
   "source": [
    "myfolder\\Clipusing.shp "
   ]
  },
  {
   "cell_type": "markdown",
   "id": "b052b178-eefc-4d60-b039-bd1f8b05f973",
   "metadata": {},
   "source": [
    "myfolder\\clippedresult.shp"
   ]
  },
  {
   "cell_type": "markdown",
   "id": "07384fbf-e8cd-43cf-974f-11803dff9978",
   "metadata": {},
   "source": [
    "myfolder\\tobeclipped.shp"
   ]
  },
  {
   "cell_type": "markdown",
   "id": "7184c06e-2c25-46a0-b619-710ae1b3270a",
   "metadata": {},
   "source": [
    "- Projection:"
   ]
  },
  {
   "cell_type": "markdown",
   "id": "3b234a52-5997-4845-9621-28644d2b8ca1",
   "metadata": {},
   "source": [
    "ogr2ogr -t_srs EPSG:3857 -s_srs EPSG:4326 "
   ]
  },
  {
   "cell_type": "markdown",
   "id": "b7440ada-ab54-4935-86e6-16ca97b5a4f7",
   "metadata": {},
   "source": [
    "myfolder\\result.shp "
   ]
  },
  {
   "cell_type": "markdown",
   "id": "a58ee845-fdba-4080-ad7d-2aba8357b4aa",
   "metadata": {},
   "source": [
    "myfolder\\input.shp"
   ]
  },
  {
   "cell_type": "markdown",
   "id": "44b83be1-3ae3-4ed2-b9be-72054914d03f",
   "metadata": {},
   "source": [
    "- Raster:"
   ]
  },
  {
   "cell_type": "markdown",
   "id": "b2956a1b-2da0-4844-a6eb-176be422205c",
   "metadata": {},
   "source": [
    "- Hillshade:"
   ]
  },
  {
   "cell_type": "markdown",
   "id": "eab556e8-ca33-4457-a209-d88d5d1f84d7",
   "metadata": {},
   "source": [
    "gdaldem hillshade"
   ]
  },
  {
   "cell_type": "markdown",
   "id": "627d2586-37ec-4028-8a07-8cca9a86f1af",
   "metadata": {},
   "source": [
    "- Slope:"
   ]
  },
  {
   "cell_type": "markdown",
   "id": "f49d394b-3ae2-4d08-9c64-c8099f874e49",
   "metadata": {},
   "source": [
    "gdaldem color-relief slope.tif sloperamp.txt slopeshade.tif"
   ]
  }
 ],
 "metadata": {
  "kernelspec": {
   "display_name": "anaconda-panel-2023.05-py310",
   "language": "python",
   "name": "conda-env-anaconda-panel-2023.05-py310-py"
  },
  "language_info": {
   "codemirror_mode": {
    "name": "ipython",
    "version": 3
   },
   "file_extension": ".py",
   "mimetype": "text/x-python",
   "name": "python",
   "nbconvert_exporter": "python",
   "pygments_lexer": "ipython3",
   "version": "3.11.5"
  }
 },
 "nbformat": 4,
 "nbformat_minor": 5
}
