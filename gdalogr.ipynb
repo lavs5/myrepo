{
 "cells": [
  {
   "cell_type": "markdown",
   "id": "f1e2b2fe-3ee9-493c-b38e-ee03b5e3ac90",
   "metadata": {},
   "source": [
    "GDAL Geospatial Data Abstraction Library"
   ]
  },
  {
   "cell_type": "markdown",
   "id": "9c55d428-98c9-42ac-9f51-50b642277337",
   "metadata": {},
   "source": [
    "- GDAL is an open-source library for raster and vector geospatial data formats. \n",
    "- The library comes with a vast collection of utility programs that can perform many geoprocessing tasks.\n",
    "- \"GDAL\" was used to refer to the raster-related half of the library, while \"OGR\" referred to the vector part. \n",
    "- Numpy: One advanced feature of the GDAL Python bindings not found in the other language bindings is integration with the Python numerical array facilities."
   ]
  },
  {
   "cell_type": "markdown",
   "id": "c0e7ed54-252a-4a51-8805-d72d1923540a",
   "metadata": {},
   "source": [
    "GDAL\n",
    "- Explore your image data with gdalinfo\n",
    "- Format translations with gdal_translate\n",
    "- Reproject your data with gdalwarp\n",
    "- Mosaic your data with gdal_warp or gdal_merge.py\n",
    "- Build a shapefile as a raster tileindex with gdaltindex"
   ]
  },
  {
   "cell_type": "markdown",
   "id": "ad11542d-f688-491f-a699-51f62a40c267",
   "metadata": {},
   "source": [
    "OGR\n",
    "- Get information about your data with ogrinfo\n",
    "- Use ogr2ogr to transform your data to other formats"
   ]
  },
  {
   "cell_type": "markdown",
   "id": "ae689215-0f94-4b55-bf46-c0d6a06b4d82",
   "metadata": {},
   "source": [
    "Getting started:"
   ]
  },
  {
   "cell_type": "markdown",
   "id": "11752751-630e-477f-b0ff-4a29ddf1242b",
   "metadata": {},
   "source": [
    "Start > All Programs > QGIS > OSGeo4W Shell or OSGeo4W"
   ]
  },
  {
   "cell_type": "markdown",
   "id": "b494c217-63d8-4214-8116-bfb7b14c101d",
   "metadata": {},
   "source": [
    "Commonly-used commands"
   ]
  },
  {
   "cell_type": "markdown",
   "id": "260a61d4-a8d9-4799-ac87-19cd1a1a381a",
   "metadata": {},
   "source": [
    "- ogrinfo: Get information about a vector dataset\n",
    "- gdalinfo: Get information about a raster dataset\n",
    "- ogr2ogr: Convert vector data between file formats\n",
    "- gdal_translate: Convert raster data between file formats"
   ]
  },
  {
   "cell_type": "markdown",
   "id": "39864d4b-306f-4d6d-b55a-74c1a46861f5",
   "metadata": {},
   "source": [
    "- The -outsize switch can be used to set the size of the output file."
   ]
  },
  {
   "cell_type": "code",
   "execution_count": null,
   "id": "501977e9-2fa7-45db-9244-3fa71c38f4a5",
   "metadata": {},
   "outputs": [],
   "source": [
    "gdal_translate -outsize 50% 50% HYP_50M_SR_W.tif  HYP_50M_SR_W_small.tif"
   ]
  },
  {
   "cell_type": "markdown",
   "id": "f8dfa15b-572e-47cb-8fc8-daf9c7b5b5e1",
   "metadata": {},
   "source": [
    "- The -scale switch can be used to rescale data. Explicit control of the input and output ranges is also available. \n",
    "- The gdalinfo -mm switch can be used to see pixel min/max values."
   ]
  },
  {
   "cell_type": "markdown",
   "id": "b5d832bc-79bd-414b-8a98-dfa93523137c",
   "metadata": {},
   "source": [
    "- Let’s split our image into two with -srcwin which makes a copy based on pixel/line location (xoff yoff xsize ysize). You also could use -projwin and define the corners in georeferenced coordinates (ulx uly lrx lry)."
   ]
  },
  {
   "cell_type": "code",
   "execution_count": null,
   "id": "eb74c75f-dae4-4863-86dc-1c06877aad88",
   "metadata": {},
   "outputs": [],
   "source": [
    "gdalinfo -mm HYP_50M_SR_W.tif"
   ]
  },
  {
   "cell_type": "code",
   "execution_count": null,
   "id": "8f29bb93-dc23-49af-a924-4ef2b00cc75b",
   "metadata": {},
   "outputs": [],
   "source": [
    "gdal_translate -srcwin 0 0 5400 5400 HYP_50M_SR_W.tif  west.tif"
   ]
  },
  {
   "cell_type": "code",
   "execution_count": null,
   "id": "f9e5dec5-21a3-4cd9-b162-98193dcb045e",
   "metadata": {},
   "outputs": [],
   "source": [
    "gdal_translate -srcwin 5400 0 5400 5400 HYP_50M_SR_W.tif  east.tif"
   ]
  },
  {
   "cell_type": "markdown",
   "id": "6993310f-679d-4a84-9258-7b53baa91418",
   "metadata": {},
   "source": [
    "- Assign WGS84 as coordinate system to the image in the first step."
   ]
  },
  {
   "cell_type": "code",
   "execution_count": null,
   "id": "d4b5adfd-a216-425d-a278-49e13eac3ebc",
   "metadata": {},
   "outputs": [],
   "source": [
    "gdal_translate -a_srs WGS84 HYP_50M_SR_W.tif HYP_50M_SR_W_4326.tif"
   ]
  },
  {
   "cell_type": "markdown",
   "id": "83d5a13a-6f0d-4742-a131-6903b6d84776",
   "metadata": {},
   "source": [
    "- The gdalwarp command can be used to reproject images. Here we reproject the WGS84 geographic image to the Mercator projection:"
   ]
  },
  {
   "cell_type": "code",
   "execution_count": null,
   "id": "3b229165-6841-4955-aed8-945a427a6d7b",
   "metadata": {},
   "outputs": [],
   "source": [
    "gdalwarp -t_srs '+proj=merc +datum=WGS84' HYP_50M_SR_W_4326.tif mercator.tif"
   ]
  },
  {
   "cell_type": "markdown",
   "id": "29c87fa1-9d79-4425-baae-6b88417eea79",
   "metadata": {},
   "source": [
    "- Here we reproject to the Ortho projection."
   ]
  },
  {
   "cell_type": "code",
   "execution_count": null,
   "id": "e880af07-92ed-47a4-b746-861e22a6ebd3",
   "metadata": {},
   "outputs": [],
   "source": [
    "gdalwarp -t_srs '+proj=ortho +datum=WGS84' HYP_50M_SR_W_4326.tif ortho.tif"
   ]
  },
  {
   "cell_type": "markdown",
   "id": "87cf2e5a-5bc4-4141-bae7-b46665190fa0",
   "metadata": {},
   "source": [
    "- gdal_merge.py is a python script that can be used for simple mosaicking tasks. Mosaic the east.tif and west.tif into a single file:"
   ]
  },
  {
   "cell_type": "code",
   "execution_count": null,
   "id": "6c2d9d48-e94a-45fb-9c53-e07b6b67fbd3",
   "metadata": {},
   "outputs": [],
   "source": [
    "gdal_merge.py  east.tif west.tif -o merged.tif"
   ]
  },
  {
   "cell_type": "markdown",
   "id": "8ee3affa-15bf-4899-8652-db2a56f973f4",
   "metadata": {},
   "source": [
    "- The same task can be accomplished with gdalwarp. gdalwarp has a variety of advantages over gdal_merge, but can be slow to merge many files:"
   ]
  },
  {
   "cell_type": "code",
   "execution_count": null,
   "id": "0725fd2b-fe2d-4b09-a53d-9b3f804d8a1a",
   "metadata": {},
   "outputs": [],
   "source": [
    "gdalwarp east.tif west.tif warpmerged.tif"
   ]
  },
  {
   "cell_type": "markdown",
   "id": "ba03df4f-b158-4283-820f-7fe51cb5eccf",
   "metadata": {},
   "source": [
    "- You can use ogr2ogr to converts simple features data between file formats. You can use –formats to get the list of the supported formats with read/write information.Convert the countries to GML:"
   ]
  },
  {
   "cell_type": "code",
   "execution_count": null,
   "id": "20e4993a-e8b1-4a10-9c6a-033990bd3700",
   "metadata": {},
   "outputs": [],
   "source": [
    "ogr2ogr --formats"
   ]
  },
  {
   "cell_type": "code",
   "execution_count": null,
   "id": "10057fca-a235-445b-b6f3-96f221c6a43d",
   "metadata": {},
   "outputs": [],
   "source": [
    "ogr2ogr -f GML countries.xml ne_10m_admin_0_countries.shp"
   ]
  },
  {
   "cell_type": "markdown",
   "id": "bf2809ce-ee4a-4058-b17a-823c2977e1a3",
   "metadata": {},
   "source": [
    "- Geoprocessing example:"
   ]
  },
  {
   "cell_type": "markdown",
   "id": "9b7530c5-0bdc-41db-a895-bfdd10b9d500",
   "metadata": {},
   "source": [
    "- Clip:"
   ]
  },
  {
   "cell_type": "code",
   "execution_count": null,
   "id": "51bc4c1b-4108-4ba6-a5e9-1c47caf11d0f",
   "metadata": {},
   "outputs": [],
   "source": [
    "ogr2ogr -skipfailures -clipsrc \n",
    "myfolder\\Clipusing.shp\n",
    "myfolder\\clippedresult.shp\n",
    "myfolder\\tobeclipped.shp"
   ]
  },
  {
   "cell_type": "markdown",
   "id": "7184c06e-2c25-46a0-b619-710ae1b3270a",
   "metadata": {},
   "source": [
    "- Projection:"
   ]
  },
  {
   "cell_type": "code",
   "execution_count": null,
   "id": "fff7aa11-d5b3-4999-a264-1619419b60f2",
   "metadata": {},
   "outputs": [],
   "source": [
    "ogr2ogr -t_srs EPSG:3857 -s_srs EPSG:4326 \n",
    "myfolder\\result.shp\n",
    "myfolder\\input.shp"
   ]
  },
  {
   "cell_type": "markdown",
   "id": "44b83be1-3ae3-4ed2-b9be-72054914d03f",
   "metadata": {},
   "source": [
    "- Raster:"
   ]
  },
  {
   "cell_type": "markdown",
   "id": "b2956a1b-2da0-4844-a6eb-176be422205c",
   "metadata": {},
   "source": [
    "- Hillshade:"
   ]
  },
  {
   "cell_type": "code",
   "execution_count": null,
   "id": "6b773798-9de4-4d4f-b53e-cc92f1ec8449",
   "metadata": {},
   "outputs": [],
   "source": [
    "gdaldem hillshade"
   ]
  },
  {
   "cell_type": "markdown",
   "id": "627d2586-37ec-4028-8a07-8cca9a86f1af",
   "metadata": {},
   "source": [
    "- Slope:"
   ]
  },
  {
   "cell_type": "code",
   "execution_count": null,
   "id": "f2dea8f0-5752-4208-a77a-98e7e8c1d614",
   "metadata": {},
   "outputs": [],
   "source": [
    "gdaldem color-relief slope.tif sloperamp.txt slopeshade.tif"
   ]
  }
 ],
 "metadata": {
  "kernelspec": {
   "display_name": "anaconda-panel-2023.05-py310",
   "language": "python",
   "name": "conda-env-anaconda-panel-2023.05-py310-py"
  },
  "language_info": {
   "codemirror_mode": {
    "name": "ipython",
    "version": 3
   },
   "file_extension": ".py",
   "mimetype": "text/x-python",
   "name": "python",
   "nbconvert_exporter": "python",
   "pygments_lexer": "ipython3",
   "version": "3.11.5"
  }
 },
 "nbformat": 4,
 "nbformat_minor": 5
}
